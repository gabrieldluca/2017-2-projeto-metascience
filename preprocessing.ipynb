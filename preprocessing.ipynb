{
 "cells": [
  {
   "cell_type": "code",
   "execution_count": 1,
   "metadata": {},
   "outputs": [
    {
     "name": "stdout",
     "output_type": "stream",
     "text": [
      "[nltk_data] Downloading package stopwords to /home/gdsv/nltk_data...\n",
      "[nltk_data]   Package stopwords is already up-to-date!\n"
     ]
    }
   ],
   "source": [
    "from dateutil.parser import parse\n",
    "from IPython.display import display\n",
    "import numpy as np\n",
    "import pandas as pd\n",
    "import datetime\n",
    "import nltk\n",
    "import re\n",
    "import string\n",
    "\n",
    "nltk.download('stopwords')\n",
    "\n",
    "EPOCH = datetime.datetime(1970, 1, 1)\n",
    "STOPWORDS = set(nltk.corpus.stopwords.words('english'))"
   ]
  },
  {
   "cell_type": "code",
   "execution_count": 2,
   "metadata": {
    "collapsed": true
   },
   "outputs": [],
   "source": [
    "reviews = pd.read_csv('./scraping/data/reviews.csv')\n",
    "details = pd.read_csv('./scraping/data/details.csv')"
   ]
  },
  {
   "cell_type": "markdown",
   "metadata": {},
   "source": [
    "# Etapa 2 — Pré-processamento de dados\n",
    "## 2.1 Ajuste de tipos de atributos"
   ]
  },
  {
   "cell_type": "markdown",
   "metadata": {},
   "source": [
    "Lorem ipsum dolor sit amet, consectetur adipiscing elit. Aenean sodales varius bibendum. Aliquam erat volutpat. Integer pretium nisi sit amet dolor vestibulum dapibus. Donec ipsum mi, sollicitudin eget leo eget, sollicitudin consectetur sapien. Cras ligula purus, mollis at elementum sit amet, ullamcorper eu sem. Integer vitae magna vehicula dolor consequat consectetur. Nulla nec arcu ac nibh luctus sagittis.\n",
    "\n",
    "Nulla tincidunt risus in est fringilla, ut venenatis neque rhoncus. Praesent euismod et urna tempus accumsan. Mauris ultricies dolor vel lacus pretium auctor. Sed sed placerat justo. Nullam viverra neque interdum metus aliquet, non euismod neque interdum. Quisque interdum egestas magna, vestibulum feugiat nisl accumsan et. Nam finibus pulvinar hendrerit. Sed nec pulvinar ligula."
   ]
  },
  {
   "cell_type": "code",
   "execution_count": 3,
   "metadata": {},
   "outputs": [
    {
     "name": "stdout",
     "output_type": "stream",
     "text": [
      "movie           object\n",
      "reviewer        object\n",
      "metascore       object\n",
      "review_score     int64\n",
      "review_text     object\n",
      "review_date     object\n",
      "details         object\n",
      "dtype: object\n"
     ]
    }
   ],
   "source": [
    "print(reviews.dtypes)"
   ]
  },
  {
   "cell_type": "markdown",
   "metadata": {},
   "source": [
    "Duis auctor molestie aliquet. Integer nibh dolor, tristique a varius at, vehicula eu odio. Vestibulum nulla nisl, maximus euismod felis quis, mollis iaculis odio. Nulla vitae ipsum at nulla eleifend bibendum. Donec semper, ligula nec scelerisque facilisis, magna lacus auctor ex, in lacinia velit augue ac turpis. Proin vestibulum ornare mauris, ac accumsan justo. Praesent quis mi commodo dolor pharetra commodo id fermentum eros. Ut egestas arcu vitae consequat pellentesque. Pellentesque sagittis felis sed enim fermentum, non fringilla neque tincidunt. Nam tempor, sem et tincidunt dictum, nulla sapien auctor ex, eu rhoncus nisl nisl laoreet nunc. Maecenas hendrerit id felis eu mollis. Pellentesque nec pellentesque eros, a euismod mauris. Maecenas varius massa eu felis dignissim ornare."
   ]
  },
  {
   "cell_type": "code",
   "execution_count": 4,
   "metadata": {
    "collapsed": true
   },
   "outputs": [],
   "source": [
    "def metascore_parser(score):\n",
    "    if score != 'tbd':\n",
    "        return int(score)\n",
    "    return np.nan\n",
    "\n",
    "def date_parser(date):\n",
    "    global EPOCH\n",
    "    if date is np.nan or date == 'TBA':\n",
    "        return EPOCH\n",
    "    return parse(date)\n",
    "\n",
    "def tokenize(text):\n",
    "    global STOPWORDS\n",
    "    tokens = []\n",
    "    for word in text.lower().split():\n",
    "        if word not in STOPWORDS:\n",
    "            exp = re.compile('[{}]+'.format(string.punctuation))\n",
    "            tokens.append(re.sub(exp, '', word))\n",
    "    return tokens"
   ]
  },
  {
   "cell_type": "markdown",
   "metadata": {
    "collapsed": true
   },
   "source": [
    "Lorem ipsum dolor sit amet, consectetur adipiscing elit. Aenean sodales varius bibendum. Aliquam erat volutpat. Integer pretium nisi sit amet dolor vestibulum dapibus. Donec ipsum mi, sollicitudin eget leo eget, sollicitudin consectetur sapien. Cras ligula purus, mollis at elementum sit amet, ullamcorper eu sem. Integer vitae magna vehicula dolor consequat consectetur. Nulla nec arcu ac nibh luctus sagittis."
   ]
  },
  {
   "cell_type": "code",
   "execution_count": 5,
   "metadata": {},
   "outputs": [
    {
     "data": {
      "text/html": [
       "<div>\n",
       "<style>\n",
       "    .dataframe thead tr:only-child th {\n",
       "        text-align: right;\n",
       "    }\n",
       "\n",
       "    .dataframe thead th {\n",
       "        text-align: left;\n",
       "    }\n",
       "\n",
       "    .dataframe tbody tr th {\n",
       "        vertical-align: top;\n",
       "    }\n",
       "</style>\n",
       "<table border=\"1\" class=\"dataframe\">\n",
       "  <thead>\n",
       "    <tr style=\"text-align: right;\">\n",
       "      <th></th>\n",
       "      <th>movie</th>\n",
       "      <th>reviewer</th>\n",
       "      <th>metascore</th>\n",
       "      <th>review_score</th>\n",
       "      <th>review_text</th>\n",
       "      <th>review_date</th>\n",
       "    </tr>\n",
       "  </thead>\n",
       "  <tbody>\n",
       "    <tr>\n",
       "      <th>0</th>\n",
       "      <td>The Grandmaster</td>\n",
       "      <td>Manohla Dargis</td>\n",
       "      <td>73.0</td>\n",
       "      <td>100</td>\n",
       "      <td>[grandmaster, is, persuasive, triumph, style, ...</td>\n",
       "      <td>2013-08-22</td>\n",
       "    </tr>\n",
       "    <tr>\n",
       "      <th>1</th>\n",
       "      <td>Of Gods and Men</td>\n",
       "      <td>A.O. Scott</td>\n",
       "      <td>86.0</td>\n",
       "      <td>100</td>\n",
       "      <td>[gods, men, supple, suspenseful, appropriately...</td>\n",
       "      <td>2011-02-24</td>\n",
       "    </tr>\n",
       "    <tr>\n",
       "      <th>2</th>\n",
       "      <td>Kubo and the Two Strings</td>\n",
       "      <td>Glenn Kenny</td>\n",
       "      <td>84.0</td>\n",
       "      <td>100</td>\n",
       "      <td>[action, gorgeously, fluid, idiosyncratic, 3d,...</td>\n",
       "      <td>2016-08-18</td>\n",
       "    </tr>\n",
       "    <tr>\n",
       "      <th>3</th>\n",
       "      <td>Jane</td>\n",
       "      <td>Ben Kenigsberg</td>\n",
       "      <td>87.0</td>\n",
       "      <td>100</td>\n",
       "      <td>[jane, delight, familiar, ms, goodall, provide...</td>\n",
       "      <td>2017-10-19</td>\n",
       "    </tr>\n",
       "    <tr>\n",
       "      <th>4</th>\n",
       "      <td>Bird People</td>\n",
       "      <td>A.O. Scott</td>\n",
       "      <td>70.0</td>\n",
       "      <td>100</td>\n",
       "      <td>[plot, twists, ms, ferran, here, transform, —,...</td>\n",
       "      <td>2014-09-11</td>\n",
       "    </tr>\n",
       "  </tbody>\n",
       "</table>\n",
       "</div>"
      ],
      "text/plain": [
       "                      movie        reviewer  metascore  review_score  \\\n",
       "0           The Grandmaster  Manohla Dargis       73.0           100   \n",
       "1           Of Gods and Men      A.O. Scott       86.0           100   \n",
       "2  Kubo and the Two Strings     Glenn Kenny       84.0           100   \n",
       "3                      Jane  Ben Kenigsberg       87.0           100   \n",
       "4               Bird People      A.O. Scott       70.0           100   \n",
       "\n",
       "                                         review_text review_date  \n",
       "0  [grandmaster, is, persuasive, triumph, style, ...  2013-08-22  \n",
       "1  [gods, men, supple, suspenseful, appropriately...  2011-02-24  \n",
       "2  [action, gorgeously, fluid, idiosyncratic, 3d,...  2016-08-18  \n",
       "3  [jane, delight, familiar, ms, goodall, provide...  2017-10-19  \n",
       "4  [plot, twists, ms, ferran, here, transform, —,...  2014-09-11  "
      ]
     },
     "metadata": {},
     "output_type": "display_data"
    },
    {
     "data": {
      "text/plain": [
       "movie                   object\n",
       "reviewer              category\n",
       "metascore              float64\n",
       "review_score             int64\n",
       "review_text             object\n",
       "review_date     datetime64[ns]\n",
       "dtype: object"
      ]
     },
     "metadata": {},
     "output_type": "display_data"
    }
   ],
   "source": [
    "reviews.review_text = reviews['review_text'].apply(tokenize)\n",
    "reviews.metascore = reviews['metascore'].apply(metascore_parser)\n",
    "reviews.review_date = reviews['review_date'].apply(date_parser)\n",
    "reviews.reviewer = reviews['reviewer'].astype('category')\n",
    "reviews = reviews.drop('details', axis=1)\n",
    "\n",
    "display(reviews.head())\n",
    "display(reviews.dtypes)"
   ]
  },
  {
   "cell_type": "markdown",
   "metadata": {},
   "source": [
    "Lorem ipsum dolor sit amet, consectetur adipiscing elit. Aenean sodales varius bibendum. Aliquam erat volutpat. Integer pretium nisi sit amet dolor vestibulum dapibus. Donec ipsum mi, sollicitudin eget leo eget, sollicitudin consectetur sapien. Cras ligula purus, mollis at elementum sit amet, ullamcorper eu sem. Integer vitae magna vehicula dolor consequat consectetur. Nulla nec arcu ac nibh luctus sagittis.\n",
    "\n",
    "Nulla tincidunt risus in est fringilla, ut venenatis neque rhoncus. Praesent euismod et urna tempus accumsan. Mauris ultricies dolor vel lacus pretium auctor. Sed sed placerat justo. Nullam viverra neque interdum metus aliquet, non euismod neque interdum. Quisque interdum egestas magna, vestibulum feugiat nisl accumsan et. Nam finibus pulvinar hendrerit. Sed nec pulvinar ligula."
   ]
  },
  {
   "cell_type": "code",
   "execution_count": 6,
   "metadata": {},
   "outputs": [
    {
     "name": "stdout",
     "output_type": "stream",
     "text": [
      "movie           object\n",
      "release_date    object\n",
      "acclaim_rate    object\n",
      "user_score      object\n",
      "director        object\n",
      "genres          object\n",
      "languages       object\n",
      "dtype: object\n"
     ]
    }
   ],
   "source": [
    "print(details.dtypes)"
   ]
  },
  {
   "cell_type": "markdown",
   "metadata": {},
   "source": [
    "Duis auctor molestie aliquet. Integer nibh dolor, tristique a varius at, vehicula eu odio. Vestibulum nulla nisl, maximus euismod felis quis, mollis iaculis odio. Nulla vitae ipsum at nulla eleifend bibendum. Donec semper, ligula nec scelerisque facilisis, magna lacus auctor ex, in lacinia velit augue ac turpis. Proin vestibulum ornare mauris, ac accumsan justo. Praesent quis mi commodo dolor pharetra commodo id fermentum eros. Ut egestas arcu vitae consequat pellentesque. Pellentesque sagittis felis sed enim fermentum, non fringilla neque tincidunt. Nam tempor, sem et tincidunt dictum, nulla sapien auctor ex, eu rhoncus nisl nisl laoreet nunc. Maecenas hendrerit id felis eu mollis. Pellentesque nec pellentesque eros, a euismod mauris. Maecenas varius massa eu felis dignissim ornare."
   ]
  },
  {
   "cell_type": "code",
   "execution_count": 7,
   "metadata": {
    "collapsed": true
   },
   "outputs": [],
   "source": [
    "def userscore_parser(score):\n",
    "    if score != 'tbd':\n",
    "        return float(score)*10\n",
    "    return np.nan"
   ]
  },
  {
   "cell_type": "code",
   "execution_count": 8,
   "metadata": {},
   "outputs": [
    {
     "data": {
      "text/html": [
       "<div>\n",
       "<style>\n",
       "    .dataframe thead tr:only-child th {\n",
       "        text-align: right;\n",
       "    }\n",
       "\n",
       "    .dataframe thead th {\n",
       "        text-align: left;\n",
       "    }\n",
       "\n",
       "    .dataframe tbody tr th {\n",
       "        vertical-align: top;\n",
       "    }\n",
       "</style>\n",
       "<table border=\"1\" class=\"dataframe\">\n",
       "  <thead>\n",
       "    <tr style=\"text-align: right;\">\n",
       "      <th></th>\n",
       "      <th>movie</th>\n",
       "      <th>release_date</th>\n",
       "      <th>acclaim_rate</th>\n",
       "      <th>user_score</th>\n",
       "      <th>director</th>\n",
       "      <th>genres</th>\n",
       "      <th>languages</th>\n",
       "    </tr>\n",
       "  </thead>\n",
       "  <tbody>\n",
       "    <tr>\n",
       "      <th>0</th>\n",
       "      <td>The Grandmaster</td>\n",
       "      <td>2013-08-23</td>\n",
       "      <td>Generally favorable reviews</td>\n",
       "      <td>67.0</td>\n",
       "      <td>Kar Wai Wong</td>\n",
       "      <td>['Action', 'Biography', 'Drama']</td>\n",
       "      <td>['Mandarin', 'Japanese', 'Cantonese']</td>\n",
       "    </tr>\n",
       "    <tr>\n",
       "      <th>1</th>\n",
       "      <td>Of Gods and Men</td>\n",
       "      <td>2011-02-25</td>\n",
       "      <td>Generally favorable reviews</td>\n",
       "      <td>70.0</td>\n",
       "      <td>Xavier Beauvois</td>\n",
       "      <td>['Drama', 'History']</td>\n",
       "      <td>['French', 'Arabic']</td>\n",
       "    </tr>\n",
       "    <tr>\n",
       "      <th>2</th>\n",
       "      <td>Kubo and the Two Strings</td>\n",
       "      <td>2016-08-19</td>\n",
       "      <td>Universal acclaim</td>\n",
       "      <td>81.0</td>\n",
       "      <td>Travis Knight</td>\n",
       "      <td>['Adventure', 'Fantasy', 'Animation', 'Family']</td>\n",
       "      <td>['English']</td>\n",
       "    </tr>\n",
       "    <tr>\n",
       "      <th>3</th>\n",
       "      <td>Jane</td>\n",
       "      <td>2017-10-20</td>\n",
       "      <td>No score yet</td>\n",
       "      <td>NaN</td>\n",
       "      <td>Brett Morgen</td>\n",
       "      <td>['Biography', 'Documentary']</td>\n",
       "      <td>['English']</td>\n",
       "    </tr>\n",
       "    <tr>\n",
       "      <th>4</th>\n",
       "      <td>Bird People</td>\n",
       "      <td>2014-09-12</td>\n",
       "      <td>Generally favorable reviews</td>\n",
       "      <td>70.0</td>\n",
       "      <td>Pascale Ferran</td>\n",
       "      <td>['Drama', 'Fantasy', 'Romance']</td>\n",
       "      <td>['English', 'French', 'Japanese']</td>\n",
       "    </tr>\n",
       "  </tbody>\n",
       "</table>\n",
       "</div>"
      ],
      "text/plain": [
       "                      movie release_date                 acclaim_rate  \\\n",
       "0           The Grandmaster   2013-08-23  Generally favorable reviews   \n",
       "1           Of Gods and Men   2011-02-25  Generally favorable reviews   \n",
       "2  Kubo and the Two Strings   2016-08-19            Universal acclaim   \n",
       "3                      Jane   2017-10-20                 No score yet   \n",
       "4               Bird People   2014-09-12  Generally favorable reviews   \n",
       "\n",
       "   user_score         director  \\\n",
       "0        67.0     Kar Wai Wong   \n",
       "1        70.0  Xavier Beauvois   \n",
       "2        81.0    Travis Knight   \n",
       "3         NaN     Brett Morgen   \n",
       "4        70.0   Pascale Ferran   \n",
       "\n",
       "                                            genres  \\\n",
       "0                 ['Action', 'Biography', 'Drama']   \n",
       "1                             ['Drama', 'History']   \n",
       "2  ['Adventure', 'Fantasy', 'Animation', 'Family']   \n",
       "3                     ['Biography', 'Documentary']   \n",
       "4                  ['Drama', 'Fantasy', 'Romance']   \n",
       "\n",
       "                               languages  \n",
       "0  ['Mandarin', 'Japanese', 'Cantonese']  \n",
       "1                   ['French', 'Arabic']  \n",
       "2                            ['English']  \n",
       "3                            ['English']  \n",
       "4      ['English', 'French', 'Japanese']  "
      ]
     },
     "metadata": {},
     "output_type": "display_data"
    },
    {
     "data": {
      "text/plain": [
       "movie                   object\n",
       "release_date    datetime64[ns]\n",
       "acclaim_rate          category\n",
       "user_score             float64\n",
       "director              category\n",
       "genres                category\n",
       "languages             category\n",
       "dtype: object"
      ]
     },
     "metadata": {},
     "output_type": "display_data"
    }
   ],
   "source": [
    "details.acclaim_rate = details['acclaim_rate'].astype('category')\n",
    "details.director = details['director'].astype('category')\n",
    "details.genres = details['genres'].astype('category')\n",
    "details.languages = details['languages'].astype('category')\n",
    "details.user_score = details['user_score'].apply(userscore_parser)\n",
    "details.release_date = details['release_date'].apply(date_parser)\n",
    "\n",
    "display(details.head())\n",
    "display(details.dtypes)"
   ]
  },
  {
   "cell_type": "markdown",
   "metadata": {},
   "source": [
    "## 2.2 Tratamento de dados ausentes"
   ]
  },
  {
   "cell_type": "code",
   "execution_count": null,
   "metadata": {
    "collapsed": true
   },
   "outputs": [],
   "source": []
  },
  {
   "cell_type": "markdown",
   "metadata": {},
   "source": [
    "## 2.3 Discretização"
   ]
  },
  {
   "cell_type": "code",
   "execution_count": null,
   "metadata": {
    "collapsed": true
   },
   "outputs": [],
   "source": []
  },
  {
   "cell_type": "markdown",
   "metadata": {},
   "source": [
    "## 2.4 Integração de dados"
   ]
  },
  {
   "cell_type": "markdown",
   "metadata": {},
   "source": [
    "Lorem ipsum dolor sit amet, consectetur adipiscing elit. Aenean sodales varius bibendum. Aliquam erat volutpat. Integer pretium nisi sit amet dolor vestibulum dapibus. Donec ipsum mi, sollicitudin eget leo eget, sollicitudin consectetur sapien. Cras ligula purus, mollis at elementum sit amet, ullamcorper eu sem. Integer vitae magna vehicula dolor consequat consectetur. Nulla nec arcu ac nibh luctus sagittis."
   ]
  },
  {
   "cell_type": "code",
   "execution_count": 9,
   "metadata": {},
   "outputs": [
    {
     "data": {
      "text/html": [
       "<div>\n",
       "<style>\n",
       "    .dataframe thead tr:only-child th {\n",
       "        text-align: right;\n",
       "    }\n",
       "\n",
       "    .dataframe thead th {\n",
       "        text-align: left;\n",
       "    }\n",
       "\n",
       "    .dataframe tbody tr th {\n",
       "        vertical-align: top;\n",
       "    }\n",
       "</style>\n",
       "<table border=\"1\" class=\"dataframe\">\n",
       "  <thead>\n",
       "    <tr style=\"text-align: right;\">\n",
       "      <th></th>\n",
       "      <th>movie</th>\n",
       "      <th>release_date</th>\n",
       "      <th>acclaim_rate</th>\n",
       "      <th>user_score</th>\n",
       "      <th>director</th>\n",
       "      <th>genres</th>\n",
       "      <th>languages</th>\n",
       "    </tr>\n",
       "  </thead>\n",
       "  <tbody>\n",
       "    <tr>\n",
       "      <th>10526</th>\n",
       "      <td>I Love You, Daddy</td>\n",
       "      <td>1970-01-01</td>\n",
       "      <td>No score yet</td>\n",
       "      <td>NaN</td>\n",
       "      <td>Louis C.K.</td>\n",
       "      <td>['Drama', 'Comedy']</td>\n",
       "      <td>['English']</td>\n",
       "    </tr>\n",
       "  </tbody>\n",
       "</table>\n",
       "</div>"
      ],
      "text/plain": [
       "                   movie release_date  acclaim_rate  user_score    director  \\\n",
       "10526  I Love You, Daddy   1970-01-01  No score yet         NaN  Louis C.K.   \n",
       "\n",
       "                    genres    languages  \n",
       "10526  ['Drama', 'Comedy']  ['English']  "
      ]
     },
     "metadata": {},
     "output_type": "display_data"
    },
    {
     "data": {
      "text/html": [
       "<div>\n",
       "<style>\n",
       "    .dataframe thead tr:only-child th {\n",
       "        text-align: right;\n",
       "    }\n",
       "\n",
       "    .dataframe thead th {\n",
       "        text-align: left;\n",
       "    }\n",
       "\n",
       "    .dataframe tbody tr th {\n",
       "        vertical-align: top;\n",
       "    }\n",
       "</style>\n",
       "<table border=\"1\" class=\"dataframe\">\n",
       "  <thead>\n",
       "    <tr style=\"text-align: right;\">\n",
       "      <th></th>\n",
       "      <th>movie</th>\n",
       "      <th>release_date</th>\n",
       "      <th>acclaim_rate</th>\n",
       "      <th>user_score</th>\n",
       "      <th>director</th>\n",
       "      <th>genres</th>\n",
       "      <th>languages</th>\n",
       "    </tr>\n",
       "  </thead>\n",
       "  <tbody>\n",
       "    <tr>\n",
       "      <th>2779</th>\n",
       "      <td>I Love You, Daddy</td>\n",
       "      <td>1970-01-01</td>\n",
       "      <td>No score yet</td>\n",
       "      <td>NaN</td>\n",
       "      <td>Louis C.K.</td>\n",
       "      <td>['Drama', 'Comedy']</td>\n",
       "      <td>['English']</td>\n",
       "    </tr>\n",
       "    <tr>\n",
       "      <th>10526</th>\n",
       "      <td>I Love You, Daddy</td>\n",
       "      <td>1970-01-01</td>\n",
       "      <td>No score yet</td>\n",
       "      <td>NaN</td>\n",
       "      <td>Louis C.K.</td>\n",
       "      <td>['Drama', 'Comedy']</td>\n",
       "      <td>['English']</td>\n",
       "    </tr>\n",
       "  </tbody>\n",
       "</table>\n",
       "</div>"
      ],
      "text/plain": [
       "                   movie release_date  acclaim_rate  user_score    director  \\\n",
       "2779   I Love You, Daddy   1970-01-01  No score yet         NaN  Louis C.K.   \n",
       "10526  I Love You, Daddy   1970-01-01  No score yet         NaN  Louis C.K.   \n",
       "\n",
       "                    genres    languages  \n",
       "2779   ['Drama', 'Comedy']  ['English']  \n",
       "10526  ['Drama', 'Comedy']  ['English']  "
      ]
     },
     "metadata": {},
     "output_type": "display_data"
    }
   ],
   "source": [
    "display(details[details.duplicated()])\n",
    "display(details[details.movie=='I Love You, Daddy'])"
   ]
  },
  {
   "cell_type": "markdown",
   "metadata": {},
   "source": [
    "Duis auctor molestie aliquet. Integer nibh dolor, tristique a varius at, vehicula eu odio. Vestibulum nulla nisl, maximus euismod felis quis, mollis iaculis odio. Nulla vitae ipsum at nulla eleifend bibendum. Donec semper, ligula nec scelerisque facilisis, magna lacus auctor ex, in lacinia velit augue ac turpis. Proin vestibulum ornare mauris, ac accumsan justo. Praesent quis mi commodo dolor pharetra commodo id fermentum eros. Ut egestas arcu vitae consequat pellentesque. Pellentesque sagittis felis sed enim fermentum, non fringilla neque tincidunt. Nam tempor, sem et tincidunt dictum, nulla sapien auctor ex, eu rhoncus nisl nisl laoreet nunc. Maecenas hendrerit id felis eu mollis. Pellentesque nec pellentesque eros, a euismod mauris. Maecenas varius massa eu felis dignissim ornare."
   ]
  },
  {
   "cell_type": "code",
   "execution_count": 10,
   "metadata": {},
   "outputs": [
    {
     "data": {
      "text/html": [
       "<div>\n",
       "<style>\n",
       "    .dataframe thead tr:only-child th {\n",
       "        text-align: right;\n",
       "    }\n",
       "\n",
       "    .dataframe thead th {\n",
       "        text-align: left;\n",
       "    }\n",
       "\n",
       "    .dataframe tbody tr th {\n",
       "        vertical-align: top;\n",
       "    }\n",
       "</style>\n",
       "<table border=\"1\" class=\"dataframe\">\n",
       "  <thead>\n",
       "    <tr style=\"text-align: right;\">\n",
       "      <th></th>\n",
       "      <th>movie</th>\n",
       "      <th>reviewer</th>\n",
       "      <th>metascore</th>\n",
       "      <th>review_score</th>\n",
       "      <th>review_text</th>\n",
       "      <th>review_date</th>\n",
       "    </tr>\n",
       "  </thead>\n",
       "  <tbody>\n",
       "    <tr>\n",
       "      <th>2779</th>\n",
       "      <td>I Love You, Daddy</td>\n",
       "      <td>Manohla Dargis</td>\n",
       "      <td>56.0</td>\n",
       "      <td>80</td>\n",
       "      <td>[“zama”, love, you, daddy, two, best, movies, ...</td>\n",
       "      <td>1970-01-01</td>\n",
       "    </tr>\n",
       "    <tr>\n",
       "      <th>10526</th>\n",
       "      <td>I Love You, Daddy</td>\n",
       "      <td>Manohla Dargis</td>\n",
       "      <td>56.0</td>\n",
       "      <td>40</td>\n",
       "      <td>[watched, love, you, daddy, second, time, joke...</td>\n",
       "      <td>1970-01-01</td>\n",
       "    </tr>\n",
       "  </tbody>\n",
       "</table>\n",
       "</div>"
      ],
      "text/plain": [
       "                   movie        reviewer  metascore  review_score  \\\n",
       "2779   I Love You, Daddy  Manohla Dargis       56.0            80   \n",
       "10526  I Love You, Daddy  Manohla Dargis       56.0            40   \n",
       "\n",
       "                                             review_text review_date  \n",
       "2779   [“zama”, love, you, daddy, two, best, movies, ...  1970-01-01  \n",
       "10526  [watched, love, you, daddy, second, time, joke...  1970-01-01  "
      ]
     },
     "metadata": {},
     "output_type": "display_data"
    }
   ],
   "source": [
    "display(reviews[reviews.movie=='I Love You, Daddy'])"
   ]
  },
  {
   "cell_type": "markdown",
   "metadata": {},
   "source": [
    "Lorem ipsum dolor sit amet, consectetur adipiscing elit. Aenean sodales varius bibendum. Aliquam erat volutpat. Integer pretium nisi sit amet dolor vestibulum dapibus. Donec ipsum mi, sollicitudin eget leo eget, sollicitudin consectetur sapien. Cras ligula purus, mollis at elementum sit amet, ullamcorper eu sem. Integer vitae magna vehicula dolor consequat consectetur. Nulla nec arcu ac nibh luctus sagittis.\n",
    "\n",
    "Nulla tincidunt risus in est fringilla, ut venenatis neque rhoncus. Praesent euismod et urna tempus accumsan. Mauris ultricies dolor vel lacus pretium auctor. Sed sed placerat justo. Nullam viverra neque interdum metus aliquet, non euismod neque interdum. Quisque interdum egestas magna, vestibulum feugiat nisl accumsan et. Nam finibus pulvinar hendrerit. Sed nec pulvinar ligula."
   ]
  },
  {
   "cell_type": "code",
   "execution_count": 11,
   "metadata": {},
   "outputs": [
    {
     "data": {
      "text/html": [
       "<div>\n",
       "<style>\n",
       "    .dataframe thead tr:only-child th {\n",
       "        text-align: right;\n",
       "    }\n",
       "\n",
       "    .dataframe thead th {\n",
       "        text-align: left;\n",
       "    }\n",
       "\n",
       "    .dataframe tbody tr th {\n",
       "        vertical-align: top;\n",
       "    }\n",
       "</style>\n",
       "<table border=\"1\" class=\"dataframe\">\n",
       "  <thead>\n",
       "    <tr style=\"text-align: right;\">\n",
       "      <th></th>\n",
       "      <th>movie</th>\n",
       "      <th>reviewer</th>\n",
       "      <th>metascore</th>\n",
       "      <th>review_score</th>\n",
       "      <th>review_text</th>\n",
       "      <th>review_date</th>\n",
       "      <th>release_date</th>\n",
       "      <th>acclaim_rate</th>\n",
       "      <th>user_score</th>\n",
       "      <th>director</th>\n",
       "      <th>genres</th>\n",
       "      <th>languages</th>\n",
       "    </tr>\n",
       "  </thead>\n",
       "  <tbody>\n",
       "    <tr>\n",
       "      <th>0</th>\n",
       "      <td>The Grandmaster</td>\n",
       "      <td>Manohla Dargis</td>\n",
       "      <td>73.0</td>\n",
       "      <td>100</td>\n",
       "      <td>[grandmaster, is, persuasive, triumph, style, ...</td>\n",
       "      <td>2013-08-22</td>\n",
       "      <td>2013-08-23</td>\n",
       "      <td>Generally favorable reviews</td>\n",
       "      <td>67.0</td>\n",
       "      <td>Kar Wai Wong</td>\n",
       "      <td>['Action', 'Biography', 'Drama']</td>\n",
       "      <td>['Mandarin', 'Japanese', 'Cantonese']</td>\n",
       "    </tr>\n",
       "    <tr>\n",
       "      <th>1</th>\n",
       "      <td>Of Gods and Men</td>\n",
       "      <td>A.O. Scott</td>\n",
       "      <td>86.0</td>\n",
       "      <td>100</td>\n",
       "      <td>[gods, men, supple, suspenseful, appropriately...</td>\n",
       "      <td>2011-02-24</td>\n",
       "      <td>2011-02-25</td>\n",
       "      <td>Generally favorable reviews</td>\n",
       "      <td>70.0</td>\n",
       "      <td>Xavier Beauvois</td>\n",
       "      <td>['Drama', 'History']</td>\n",
       "      <td>['French', 'Arabic']</td>\n",
       "    </tr>\n",
       "    <tr>\n",
       "      <th>2</th>\n",
       "      <td>Kubo and the Two Strings</td>\n",
       "      <td>Glenn Kenny</td>\n",
       "      <td>84.0</td>\n",
       "      <td>100</td>\n",
       "      <td>[action, gorgeously, fluid, idiosyncratic, 3d,...</td>\n",
       "      <td>2016-08-18</td>\n",
       "      <td>2016-08-19</td>\n",
       "      <td>Universal acclaim</td>\n",
       "      <td>81.0</td>\n",
       "      <td>Travis Knight</td>\n",
       "      <td>['Adventure', 'Fantasy', 'Animation', 'Family']</td>\n",
       "      <td>['English']</td>\n",
       "    </tr>\n",
       "    <tr>\n",
       "      <th>3</th>\n",
       "      <td>Jane</td>\n",
       "      <td>Ben Kenigsberg</td>\n",
       "      <td>87.0</td>\n",
       "      <td>100</td>\n",
       "      <td>[jane, delight, familiar, ms, goodall, provide...</td>\n",
       "      <td>2017-10-19</td>\n",
       "      <td>2017-10-20</td>\n",
       "      <td>No score yet</td>\n",
       "      <td>NaN</td>\n",
       "      <td>Brett Morgen</td>\n",
       "      <td>['Biography', 'Documentary']</td>\n",
       "      <td>['English']</td>\n",
       "    </tr>\n",
       "    <tr>\n",
       "      <th>4</th>\n",
       "      <td>Bird People</td>\n",
       "      <td>A.O. Scott</td>\n",
       "      <td>70.0</td>\n",
       "      <td>100</td>\n",
       "      <td>[plot, twists, ms, ferran, here, transform, —,...</td>\n",
       "      <td>2014-09-11</td>\n",
       "      <td>2014-09-12</td>\n",
       "      <td>Generally favorable reviews</td>\n",
       "      <td>70.0</td>\n",
       "      <td>Pascale Ferran</td>\n",
       "      <td>['Drama', 'Fantasy', 'Romance']</td>\n",
       "      <td>['English', 'French', 'Japanese']</td>\n",
       "    </tr>\n",
       "  </tbody>\n",
       "</table>\n",
       "</div>"
      ],
      "text/plain": [
       "                      movie        reviewer  metascore  review_score  \\\n",
       "0           The Grandmaster  Manohla Dargis       73.0           100   \n",
       "1           Of Gods and Men      A.O. Scott       86.0           100   \n",
       "2  Kubo and the Two Strings     Glenn Kenny       84.0           100   \n",
       "3                      Jane  Ben Kenigsberg       87.0           100   \n",
       "4               Bird People      A.O. Scott       70.0           100   \n",
       "\n",
       "                                         review_text review_date release_date  \\\n",
       "0  [grandmaster, is, persuasive, triumph, style, ...  2013-08-22   2013-08-23   \n",
       "1  [gods, men, supple, suspenseful, appropriately...  2011-02-24   2011-02-25   \n",
       "2  [action, gorgeously, fluid, idiosyncratic, 3d,...  2016-08-18   2016-08-19   \n",
       "3  [jane, delight, familiar, ms, goodall, provide...  2017-10-19   2017-10-20   \n",
       "4  [plot, twists, ms, ferran, here, transform, —,...  2014-09-11   2014-09-12   \n",
       "\n",
       "                  acclaim_rate  user_score         director  \\\n",
       "0  Generally favorable reviews        67.0     Kar Wai Wong   \n",
       "1  Generally favorable reviews        70.0  Xavier Beauvois   \n",
       "2            Universal acclaim        81.0    Travis Knight   \n",
       "3                 No score yet         NaN     Brett Morgen   \n",
       "4  Generally favorable reviews        70.0   Pascale Ferran   \n",
       "\n",
       "                                            genres  \\\n",
       "0                 ['Action', 'Biography', 'Drama']   \n",
       "1                             ['Drama', 'History']   \n",
       "2  ['Adventure', 'Fantasy', 'Animation', 'Family']   \n",
       "3                     ['Biography', 'Documentary']   \n",
       "4                  ['Drama', 'Fantasy', 'Romance']   \n",
       "\n",
       "                               languages  \n",
       "0  ['Mandarin', 'Japanese', 'Cantonese']  \n",
       "1                   ['French', 'Arabic']  \n",
       "2                            ['English']  \n",
       "3                            ['English']  \n",
       "4      ['English', 'French', 'Japanese']  "
      ]
     },
     "metadata": {},
     "output_type": "display_data"
    },
    {
     "data": {
      "text/plain": [
       "(12411, 12)"
      ]
     },
     "metadata": {},
     "output_type": "display_data"
    }
   ],
   "source": [
    "movie_reviews = pd.merge(reviews, details, on='movie', left_index=True, right_index=True)\n",
    "display(movie_reviews.head())\n",
    "display(movie_reviews.shape)"
   ]
  }
 ],
 "metadata": {
  "kernelspec": {
   "display_name": "Python 3",
   "language": "python",
   "name": "python3"
  },
  "language_info": {
   "codemirror_mode": {
    "name": "ipython",
    "version": 3
   },
   "file_extension": ".py",
   "mimetype": "text/x-python",
   "name": "python",
   "nbconvert_exporter": "python",
   "pygments_lexer": "ipython3",
   "version": "3.6.1"
  }
 },
 "nbformat": 4,
 "nbformat_minor": 2
}
