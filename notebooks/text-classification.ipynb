{
 "cells": [
  {
   "cell_type": "code",
   "execution_count": 2,
   "metadata": {},
   "outputs": [
    {
     "name": "stdout",
     "output_type": "stream",
     "text": [
      "[nltk_data] Downloading package stopwords to\n",
      "[nltk_data]     /home/vitorlima/nltk_data...\n",
      "[nltk_data]   Package stopwords is already up-to-date!\n"
     ]
    }
   ],
   "source": [
    "from IPython.display import display\n",
    "import numpy as np\n",
    "import pandas as pd\n",
    "import nltk\n",
    "import re\n",
    "import string\n",
    "from nltk.stem.snowball import SnowballStemmer\n",
    "from nltk.classify import NaiveBayesClassifier\n",
    "\n",
    "nltk.download('stopwords')\n",
    "\n",
    "STOPWORDS = set(nltk.corpus.stopwords.words('english'))\n",
    "REGEX = re.compile('[%s]' % re.escape(string.punctuation))\n",
    "STEMMER = SnowballStemmer(\"english\")"
   ]
  },
  {
   "cell_type": "markdown",
   "metadata": {},
   "source": [
    "# Text Classification (Naive Bayes)"
   ]
  },
  {
   "cell_type": "code",
   "execution_count": 4,
   "metadata": {},
   "outputs": [
    {
     "data": {
      "text/html": [
       "<div>\n",
       "<style>\n",
       "    .dataframe thead tr:only-child th {\n",
       "        text-align: right;\n",
       "    }\n",
       "\n",
       "    .dataframe thead th {\n",
       "        text-align: left;\n",
       "    }\n",
       "\n",
       "    .dataframe tbody tr th {\n",
       "        vertical-align: top;\n",
       "    }\n",
       "</style>\n",
       "<table border=\"1\" class=\"dataframe\">\n",
       "  <thead>\n",
       "    <tr style=\"text-align: right;\">\n",
       "      <th></th>\n",
       "      <th>movie</th>\n",
       "      <th>reviewer</th>\n",
       "      <th>metascore</th>\n",
       "      <th>review_score</th>\n",
       "      <th>review_text</th>\n",
       "      <th>review_date</th>\n",
       "      <th>release_date</th>\n",
       "      <th>acclaim_rate</th>\n",
       "      <th>user_score</th>\n",
       "      <th>director</th>\n",
       "      <th>...</th>\n",
       "      <th>Sci-Fi</th>\n",
       "      <th>Short</th>\n",
       "      <th>Sport</th>\n",
       "      <th>Talk-Show</th>\n",
       "      <th>Thriller</th>\n",
       "      <th>War</th>\n",
       "      <th>Western</th>\n",
       "      <th>unknown</th>\n",
       "      <th>release_decade</th>\n",
       "      <th>sentiment</th>\n",
       "    </tr>\n",
       "  </thead>\n",
       "  <tbody>\n",
       "    <tr>\n",
       "      <th>0</th>\n",
       "      <td>American Swing</td>\n",
       "      <td>Stephen Holden</td>\n",
       "      <td>59.0</td>\n",
       "      <td>40</td>\n",
       "      <td>It leaves you feeling queasy.</td>\n",
       "      <td>NaN</td>\n",
       "      <td>2009-03-27</td>\n",
       "      <td>Universal acclaim</td>\n",
       "      <td>83.0</td>\n",
       "      <td>Jon Hart</td>\n",
       "      <td>...</td>\n",
       "      <td>0</td>\n",
       "      <td>0</td>\n",
       "      <td>0</td>\n",
       "      <td>0</td>\n",
       "      <td>0</td>\n",
       "      <td>0</td>\n",
       "      <td>0</td>\n",
       "      <td>0</td>\n",
       "      <td>2000s</td>\n",
       "      <td>mixed</td>\n",
       "    </tr>\n",
       "    <tr>\n",
       "      <th>1</th>\n",
       "      <td>The Other Woman</td>\n",
       "      <td>A.O. Scott</td>\n",
       "      <td>37.0</td>\n",
       "      <td>50</td>\n",
       "      <td>In spite of its air of seriousness and sophist...</td>\n",
       "      <td>2011-02-03</td>\n",
       "      <td>2011-02-04</td>\n",
       "      <td>Mixed or average reviews</td>\n",
       "      <td>49.0</td>\n",
       "      <td>Don Roos</td>\n",
       "      <td>...</td>\n",
       "      <td>0</td>\n",
       "      <td>0</td>\n",
       "      <td>0</td>\n",
       "      <td>0</td>\n",
       "      <td>0</td>\n",
       "      <td>0</td>\n",
       "      <td>0</td>\n",
       "      <td>0</td>\n",
       "      <td>2010s</td>\n",
       "      <td>mixed</td>\n",
       "    </tr>\n",
       "    <tr>\n",
       "      <th>2</th>\n",
       "      <td>Casino Jack and the United States of Money</td>\n",
       "      <td>Stephen Holden</td>\n",
       "      <td>68.0</td>\n",
       "      <td>50</td>\n",
       "      <td>A liability of Casino Jack is the relative abs...</td>\n",
       "      <td>NaN</td>\n",
       "      <td>2010-05-07</td>\n",
       "      <td>Universal acclaim</td>\n",
       "      <td>83.0</td>\n",
       "      <td>Alex Gibney</td>\n",
       "      <td>...</td>\n",
       "      <td>0</td>\n",
       "      <td>0</td>\n",
       "      <td>0</td>\n",
       "      <td>0</td>\n",
       "      <td>0</td>\n",
       "      <td>0</td>\n",
       "      <td>0</td>\n",
       "      <td>0</td>\n",
       "      <td>2000s</td>\n",
       "      <td>mixed</td>\n",
       "    </tr>\n",
       "    <tr>\n",
       "      <th>3</th>\n",
       "      <td>Old School</td>\n",
       "      <td>A.O. Scott</td>\n",
       "      <td>54.0</td>\n",
       "      <td>50</td>\n",
       "      <td>Like a half-empty glass of Coke that's been si...</td>\n",
       "      <td>NaN</td>\n",
       "      <td>2003-02-21</td>\n",
       "      <td>Universal acclaim</td>\n",
       "      <td>87.0</td>\n",
       "      <td>Todd Phillips</td>\n",
       "      <td>...</td>\n",
       "      <td>0</td>\n",
       "      <td>0</td>\n",
       "      <td>0</td>\n",
       "      <td>0</td>\n",
       "      <td>0</td>\n",
       "      <td>0</td>\n",
       "      <td>0</td>\n",
       "      <td>0</td>\n",
       "      <td>2000s</td>\n",
       "      <td>mixed</td>\n",
       "    </tr>\n",
       "    <tr>\n",
       "      <th>4</th>\n",
       "      <td>The Circle</td>\n",
       "      <td>Nicolas Rapold</td>\n",
       "      <td>67.0</td>\n",
       "      <td>60</td>\n",
       "      <td>The sense of an invisible world being revealed...</td>\n",
       "      <td>2014-11-20</td>\n",
       "      <td>2014-11-14</td>\n",
       "      <td>Generally favorable reviews</td>\n",
       "      <td>75.0</td>\n",
       "      <td>Stefan Haupt</td>\n",
       "      <td>...</td>\n",
       "      <td>0</td>\n",
       "      <td>0</td>\n",
       "      <td>0</td>\n",
       "      <td>0</td>\n",
       "      <td>0</td>\n",
       "      <td>0</td>\n",
       "      <td>0</td>\n",
       "      <td>0</td>\n",
       "      <td>2010s</td>\n",
       "      <td>mixed</td>\n",
       "    </tr>\n",
       "  </tbody>\n",
       "</table>\n",
       "<p>5 rows × 41 columns</p>\n",
       "</div>"
      ],
      "text/plain": [
       "                                        movie        reviewer  metascore  \\\n",
       "0                              American Swing  Stephen Holden       59.0   \n",
       "1                             The Other Woman      A.O. Scott       37.0   \n",
       "2  Casino Jack and the United States of Money  Stephen Holden       68.0   \n",
       "3                                  Old School      A.O. Scott       54.0   \n",
       "4                                  The Circle  Nicolas Rapold       67.0   \n",
       "\n",
       "   review_score                                        review_text  \\\n",
       "0            40                      It leaves you feeling queasy.   \n",
       "1            50  In spite of its air of seriousness and sophist...   \n",
       "2            50  A liability of Casino Jack is the relative abs...   \n",
       "3            50  Like a half-empty glass of Coke that's been si...   \n",
       "4            60  The sense of an invisible world being revealed...   \n",
       "\n",
       "  review_date release_date                 acclaim_rate  user_score  \\\n",
       "0         NaN   2009-03-27            Universal acclaim        83.0   \n",
       "1  2011-02-03   2011-02-04     Mixed or average reviews        49.0   \n",
       "2         NaN   2010-05-07            Universal acclaim        83.0   \n",
       "3         NaN   2003-02-21            Universal acclaim        87.0   \n",
       "4  2014-11-20   2014-11-14  Generally favorable reviews        75.0   \n",
       "\n",
       "        director    ...     Sci-Fi  Short  Sport  Talk-Show  Thriller  War  \\\n",
       "0       Jon Hart    ...          0      0      0          0         0    0   \n",
       "1       Don Roos    ...          0      0      0          0         0    0   \n",
       "2    Alex Gibney    ...          0      0      0          0         0    0   \n",
       "3  Todd Phillips    ...          0      0      0          0         0    0   \n",
       "4   Stefan Haupt    ...          0      0      0          0         0    0   \n",
       "\n",
       "   Western  unknown  release_decade  sentiment  \n",
       "0        0        0           2000s      mixed  \n",
       "1        0        0           2010s      mixed  \n",
       "2        0        0           2000s      mixed  \n",
       "3        0        0           2000s      mixed  \n",
       "4        0        0           2010s      mixed  \n",
       "\n",
       "[5 rows x 41 columns]"
      ]
     },
     "metadata": {},
     "output_type": "display_data"
    }
   ],
   "source": [
    "movie_reviews = pd.read_csv('../movie_reviews.csv')\n",
    "display(movie_reviews.head())"
   ]
  },
  {
   "cell_type": "markdown",
   "metadata": {},
   "source": [
    " "
   ]
  },
  {
   "cell_type": "code",
   "execution_count": 280,
   "metadata": {
    "collapsed": true
   },
   "outputs": [],
   "source": [
    "def word_parser(x):\n",
    "    if x not in STOPWORDS:\n",
    "        return ({STEMMER.stem(REGEX.sub('',x)):True})\n",
    "\n",
    "\n",
    "def create_word_features(text):\n",
    "    words={}\n",
    "    for word in text.split():\n",
    "        if word not in STOPWORDS:\n",
    "            words.update(word_parser(word))\n",
    "    return words\n",
    "    \n",
    "def category_filter(category):\n",
    "    reviews =[]\n",
    "    for x in movie_reviews.review_text[(movie_reviews.sentiment == category)]:   \n",
    "        reviews.append((create_word_features(x),category))\n",
    "    return reviews\n",
    "\n",
    "def predict(model,text):\n",
    "    words = {}\n",
    "    for x in text.split():\n",
    "        parsed_word = word_parser(x)\n",
    "        if parsed_word:\n",
    "            words.update(parsed_word)\n",
    "    return model.classify(words)"
   ]
  },
  {
   "cell_type": "markdown",
   "metadata": {},
   "source": [
    "## Coletando features"
   ]
  },
  {
   "cell_type": "code",
   "execution_count": 299,
   "metadata": {},
   "outputs": [
    {
     "name": "stdout",
     "output_type": "stream",
     "text": [
      "Positive reviews: 5621\n",
      "Mixed reviews: 5147\n",
      "Negative reviews: 12410\n"
     ]
    }
   ],
   "source": [
    "from random import shuffle\n",
    "\n",
    "neg = category_filter('mixed') + category_filter('pos') + category_filter('neg')\n",
    "shuffle(neg)\n",
    "        \n",
    "train_set = neg[:8400]\n",
    "test_set = neg[8400:]\n",
    "\n",
    "print('Positive reviews:',len(pos)) \n",
    "print('Mixed reviews:',len(mixed))\n",
    "print('Negative reviews:',len(neg))"
   ]
  },
  {
   "cell_type": "markdown",
   "metadata": {},
   "source": [
    "## Treinando Classificador"
   ]
  },
  {
   "cell_type": "code",
   "execution_count": 314,
   "metadata": {},
   "outputs": [
    {
     "name": "stdout",
     "output_type": "stream",
     "text": [
      "Train set: 8400 reviews\n",
      "Teste set: 4010 reviews\n",
      "\n",
      "Accuracy: 57.08%\n",
      "_____________________________________ \n",
      "\n",
      "The 10 most informative words are: \n",
      "\n",
      "Most Informative Features\n",
      "                 incoher = True              neg : pos    =     42.7 : 1.0\n",
      "                 tedious = True              neg : pos    =     40.4 : 1.0\n",
      "                 witless = True              neg : mixed  =     24.7 : 1.0\n",
      "                   inept = True              neg : mixed  =     22.5 : 1.0\n",
      "                laughabl = True              neg : pos    =     21.9 : 1.0\n",
      "                 clichéd = True              neg : pos    =     19.6 : 1.0\n",
      "                  devast = True              pos : mixed  =     18.3 : 1.0\n",
      "                   lurch = True              neg : pos    =     17.3 : 1.0\n",
      "                   hokum = True              neg : pos    =     17.3 : 1.0\n",
      "                    thud = True              neg : pos    =     17.3 : 1.0\n",
      "                    drab = True              neg : pos    =     15.0 : 1.0\n",
      "                    dumb = True              neg : pos    =     14.6 : 1.0\n",
      "                  tortur = True              neg : mixed  =     13.9 : 1.0\n",
      "                     dud = True              neg : mixed  =     13.9 : 1.0\n",
      "                    lazi = True              neg : pos    =     13.2 : 1.0\n",
      "                 shallow = True              neg : pos    =     13.2 : 1.0\n",
      "               tasteless = True              neg : pos    =     12.7 : 1.0\n",
      "                grossout = True              neg : pos    =     12.7 : 1.0\n",
      "                    mush = True              neg : pos    =     12.7 : 1.0\n",
      "                  insult = True              neg : pos    =     12.4 : 1.0\n"
     ]
    }
   ],
   "source": [
    "print('Train set: {} reviews'.format(len(train_set)))\n",
    "print('Teste set: {} reviews'.format(len(test_set)))\n",
    "\n",
    "model = NaiveBayesClassifier.train(train_set)\n",
    "accuracy = nltk.classify.util.accuracy(model, test_set)\n",
    "print(\"\\nAccuracy: %.2f\" %(accuracy*100) + \"%\\n_____________________________________ \\n\")\n",
    "print(\"The 10 most informative words are: \\n\")\n",
    "model.show_most_informative_features(20)"
   ]
  },
  {
   "cell_type": "markdown",
   "metadata": {},
   "source": [
    "## Fazendo predições"
   ]
  },
  {
   "cell_type": "code",
   "execution_count": 301,
   "metadata": {},
   "outputs": [
    {
     "data": {
      "text/plain": [
       "'pos'"
      ]
     },
     "execution_count": 301,
     "metadata": {},
     "output_type": "execute_result"
    }
   ],
   "source": [
    "predict(model, \"I love this movie!\")"
   ]
  },
  {
   "cell_type": "code",
   "execution_count": 302,
   "metadata": {},
   "outputs": [
    {
     "data": {
      "text/plain": [
       "'neg'"
      ]
     },
     "execution_count": 302,
     "metadata": {},
     "output_type": "execute_result"
    }
   ],
   "source": [
    "predict(model, \"I hate this movie!\")"
   ]
  },
  {
   "cell_type": "code",
   "execution_count": 303,
   "metadata": {},
   "outputs": [
    {
     "data": {
      "text/plain": [
       "'pos'"
      ]
     },
     "execution_count": 303,
     "metadata": {},
     "output_type": "execute_result"
    }
   ],
   "source": [
    "predict(model, \"Even though I think it's average, my wife loves it!\")"
   ]
  },
  {
   "cell_type": "code",
   "execution_count": null,
   "metadata": {
    "collapsed": true
   },
   "outputs": [],
   "source": []
  }
 ],
 "metadata": {
  "kernelspec": {
   "display_name": "Python 3",
   "language": "python",
   "name": "python3"
  },
  "language_info": {
   "codemirror_mode": {
    "name": "ipython",
    "version": 3
   },
   "file_extension": ".py",
   "mimetype": "text/x-python",
   "name": "python",
   "nbconvert_exporter": "python",
   "pygments_lexer": "ipython3",
   "version": "3.6.1"
  }
 },
 "nbformat": 4,
 "nbformat_minor": 2
}
