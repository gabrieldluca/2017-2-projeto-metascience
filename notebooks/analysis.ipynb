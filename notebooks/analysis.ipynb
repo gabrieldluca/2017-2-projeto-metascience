{
 "cells": [
  {
   "cell_type": "code",
   "execution_count": 1,
   "metadata": {
    "collapsed": true
   },
   "outputs": [],
   "source": [
    "from IPython.display import display\n",
    "from dateutil.parser import parse\n",
    "import matplotlib.pyplot as plt\n",
    "import matplotlib.cm as cm\n",
    "import numpy as np\n",
    "import pandas as pd\n",
    "import statsmodels.formula.api as smf\n",
    "import seaborn as sns\n",
    "import random\n",
    "\n",
    "random.seed(123)\n",
    "plt.style.use('ggplot')\n",
    "% matplotlib inline\n",
    "\n",
    "RAINBOW_COLORS = lambda v: cm.rainbow(np.linspace(0, 1, v))"
   ]
  },
  {
   "cell_type": "code",
   "execution_count": 2,
   "metadata": {
    "collapsed": true
   },
   "outputs": [],
   "source": [
    "movie_data = pd.read_csv('../movie_data.csv')"
   ]
  },
  {
   "cell_type": "code",
   "execution_count": 3,
   "metadata": {
    "collapsed": true
   },
   "outputs": [],
   "source": [
    "date_parser = lambda i: parse(i) if i is not np.nan else np.nan\n",
    "movie_data.reviewer = movie_data.reviewer.astype('category')\n",
    "movie_data.review_date = movie_data.review_date.apply(date_parser)\n",
    "movie_data.release_date = movie_data.release_date.apply(date_parser)\n",
    "movie_data.user_acclaim = movie_data.user_acclaim.astype('category')\n",
    "movie_data.director = movie_data.director.astype('category')\n",
    "movie_data.languages = movie_data.languages.astype('category')\n",
    "movie_data.release_decade = movie_data.release_decade.astype('category')"
   ]
  },
  {
   "cell_type": "markdown",
   "metadata": {},
   "source": [
    "# Parte 1 — The New York Times"
   ]
  },
  {
   "cell_type": "code",
   "execution_count": 4,
   "metadata": {},
   "outputs": [
    {
     "data": {
      "text/html": [
       "<div>\n",
       "<style>\n",
       "    .dataframe thead tr:only-child th {\n",
       "        text-align: right;\n",
       "    }\n",
       "\n",
       "    .dataframe thead th {\n",
       "        text-align: left;\n",
       "    }\n",
       "\n",
       "    .dataframe tbody tr th {\n",
       "        vertical-align: top;\n",
       "    }\n",
       "</style>\n",
       "<table border=\"1\" class=\"dataframe\">\n",
       "  <thead>\n",
       "    <tr style=\"text-align: right;\">\n",
       "      <th></th>\n",
       "      <th>coef</th>\n",
       "      <th>SE</th>\n",
       "      <th>t</th>\n",
       "      <th>p-value</th>\n",
       "    </tr>\n",
       "  </thead>\n",
       "  <tbody>\n",
       "    <tr>\n",
       "      <th>Intercept</th>\n",
       "      <td>65.768902</td>\n",
       "      <td>0.623313</td>\n",
       "      <td>105.515104</td>\n",
       "      <td>0.000000e+00</td>\n",
       "    </tr>\n",
       "    <tr>\n",
       "      <th>C(reviewer)[T.Jeannette Catsoulis]</th>\n",
       "      <td>-12.088346</td>\n",
       "      <td>1.009437</td>\n",
       "      <td>-11.975340</td>\n",
       "      <td>4.378162e-32</td>\n",
       "    </tr>\n",
       "    <tr>\n",
       "      <th>C(reviewer)[T.Manohla Dargis]</th>\n",
       "      <td>-2.926021</td>\n",
       "      <td>0.913382</td>\n",
       "      <td>-3.203503</td>\n",
       "      <td>1.376558e-03</td>\n",
       "    </tr>\n",
       "    <tr>\n",
       "      <th>C(reviewer)[T.Stephen Holden]</th>\n",
       "      <td>-8.541978</td>\n",
       "      <td>0.955129</td>\n",
       "      <td>-8.943270</td>\n",
       "      <td>7.674626e-19</td>\n",
       "    </tr>\n",
       "  </tbody>\n",
       "</table>\n",
       "</div>"
      ],
      "text/plain": [
       "                                         coef        SE           t  \\\n",
       "Intercept                           65.768902  0.623313  105.515104   \n",
       "C(reviewer)[T.Jeannette Catsoulis] -12.088346  1.009437  -11.975340   \n",
       "C(reviewer)[T.Manohla Dargis]       -2.926021  0.913382   -3.203503   \n",
       "C(reviewer)[T.Stephen Holden]       -8.541978  0.955129   -8.943270   \n",
       "\n",
       "                                         p-value  \n",
       "Intercept                           0.000000e+00  \n",
       "C(reviewer)[T.Jeannette Catsoulis]  4.378162e-32  \n",
       "C(reviewer)[T.Manohla Dargis]       1.376558e-03  \n",
       "C(reviewer)[T.Stephen Holden]       7.674626e-19  "
      ]
     },
     "metadata": {},
     "output_type": "display_data"
    }
   ],
   "source": [
    "reviewerQtd = movie_data.groupby('reviewer')['reviewer'].count()\n",
    "fourReviewers = reviewerQtd.nlargest(4)\n",
    "fourReviewers = [i for i in fourReviewers.index.values]\n",
    "\n",
    "getfourReviewers = lambda i: i[2] in fourReviewers\n",
    "topReviewersDF = movie_data[list(map(getfourReviewers, movie_data.itertuples()))]\n",
    "topReviewersDF.reviewer.cat.remove_unused_categories(inplace=True)\n",
    "topReviewersDF = topReviewersDF.reset_index(drop=True).dropna()\n",
    "\n",
    "model = smf.ols(formula='metascore ~ C(reviewer)', data=topReviewersDF).fit()\n",
    "result = pd.concat([model.params, model.bse, model.tvalues, model.pvalues],\n",
    "                   axis=1, keys=['coef','SE','t','p-value'])\n",
    "display(result)"
   ]
  },
  {
   "cell_type": "code",
   "execution_count": 5,
   "metadata": {},
   "outputs": [
    {
     "data": {
      "text/html": [
       "<div>\n",
       "<style>\n",
       "    .dataframe thead tr:only-child th {\n",
       "        text-align: right;\n",
       "    }\n",
       "\n",
       "    .dataframe thead th {\n",
       "        text-align: left;\n",
       "    }\n",
       "\n",
       "    .dataframe tbody tr th {\n",
       "        vertical-align: top;\n",
       "    }\n",
       "</style>\n",
       "<table border=\"1\" class=\"dataframe\">\n",
       "  <thead>\n",
       "    <tr style=\"text-align: right;\">\n",
       "      <th></th>\n",
       "      <th>coef</th>\n",
       "      <th>SE</th>\n",
       "      <th>t</th>\n",
       "      <th>p-value</th>\n",
       "    </tr>\n",
       "  </thead>\n",
       "  <tbody>\n",
       "    <tr>\n",
       "      <th>Intercept</th>\n",
       "      <td>68.573466</td>\n",
       "      <td>0.850775</td>\n",
       "      <td>80.601134</td>\n",
       "      <td>0.000000e+00</td>\n",
       "    </tr>\n",
       "    <tr>\n",
       "      <th>C(reviewer)[T.Jeannette Catsoulis]</th>\n",
       "      <td>-13.480874</td>\n",
       "      <td>1.377806</td>\n",
       "      <td>-9.784306</td>\n",
       "      <td>3.598390e-22</td>\n",
       "    </tr>\n",
       "    <tr>\n",
       "      <th>C(reviewer)[T.Manohla Dargis]</th>\n",
       "      <td>-3.401617</td>\n",
       "      <td>1.246698</td>\n",
       "      <td>-2.728501</td>\n",
       "      <td>6.411540e-03</td>\n",
       "    </tr>\n",
       "    <tr>\n",
       "      <th>C(reviewer)[T.Stephen Holden]</th>\n",
       "      <td>-8.438851</td>\n",
       "      <td>1.303680</td>\n",
       "      <td>-6.473098</td>\n",
       "      <td>1.173811e-10</td>\n",
       "    </tr>\n",
       "  </tbody>\n",
       "</table>\n",
       "</div>"
      ],
      "text/plain": [
       "                                         coef        SE          t  \\\n",
       "Intercept                           68.573466  0.850775  80.601134   \n",
       "C(reviewer)[T.Jeannette Catsoulis] -13.480874  1.377806  -9.784306   \n",
       "C(reviewer)[T.Manohla Dargis]       -3.401617  1.246698  -2.728501   \n",
       "C(reviewer)[T.Stephen Holden]       -8.438851  1.303680  -6.473098   \n",
       "\n",
       "                                         p-value  \n",
       "Intercept                           0.000000e+00  \n",
       "C(reviewer)[T.Jeannette Catsoulis]  3.598390e-22  \n",
       "C(reviewer)[T.Manohla Dargis]       6.411540e-03  \n",
       "C(reviewer)[T.Stephen Holden]       1.173811e-10  "
      ]
     },
     "metadata": {},
     "output_type": "display_data"
    }
   ],
   "source": [
    "model = smf.ols(formula='review_score ~ C(reviewer)', data=topReviewersDF).fit()\n",
    "result = pd.concat([model.params, model.bse, model.tvalues, model.pvalues],\n",
    "                   axis=1, keys=['coef','SE','t','p-value'])\n",
    "display(result)"
   ]
  },
  {
   "cell_type": "markdown",
   "metadata": {},
   "source": [
    "Para a concretização de nossas análises, realizamos a seleção dos quatro principais críticos do The New York Times presentes em nosso conjunto de dados. Ao aplicar o *Intercept* ao primeiro crítico dentre as categorias (A.O Scott), estima-se cerca de 65~70 pontos tanto para o escore da resenha quanto para o Metascore do filme avaliado. Em relação à este, a crítica Jeannette Catsoulis tende a atribuir notas bem mais negativas em suas avaliações e, consequentemente, influencia negativamente no Metascore. O mesmo raciocínio segue para os demais críticos."
   ]
  },
  {
   "cell_type": "code",
   "execution_count": 6,
   "metadata": {},
   "outputs": [
    {
     "data": {
      "text/plain": [
       "3.6467729274822127e-23"
      ]
     },
     "execution_count": 6,
     "metadata": {},
     "output_type": "execute_result"
    }
   ],
   "source": [
    "model.f_pvalue"
   ]
  },
  {
   "cell_type": "markdown",
   "metadata": {},
   "source": [
    "Ao mesmo tempo, uma rápida análise da F-statistic nos permite dizer que a inclusão destas variáveis (em outras palavras, a consideração das categorias de críticos) está nos ajudando a melhorar a qualidade de nosso modelo. Isso se deve ao fato de que uma influência negativa do Metascore não significa que esta é uma relação desfavorável — pelo contrário, se um crítico atribui mais notas negativas em suas avaliações, uma redução concomitante do Metascore significa que este ainda é ativamente influente."
   ]
  },
  {
   "cell_type": "code",
   "execution_count": 7,
   "metadata": {},
   "outputs": [
    {
     "data": {
      "image/png": "[encoded data removed]",
      "text/plain": [
       "<matplotlib.figure.Figure at 0x7fa2f25d7e48>"
      ]
     },
     "metadata": {},
     "output_type": "display_data"
    }
   ],
   "source": [
    "sentPerCritic = topReviewersDF.groupby(['reviewer', 'sentiment']).review_score.count()\n",
    "sentPerCritic = pd.DataFrame(sentPerCritic).reset_index()\n",
    "sentPerCritic.reviewer = sentPerCritic.reviewer.cat.remove_unused_categories()\n",
    "\n",
    "review_palette = ['#CA3435', '#FED85D', '#29AB87']\n",
    "sns.set_palette(review_palette)\n",
    "sns.barplot(x='reviewer', y='review_score', hue='sentiment', \n",
    "            data=sentPerCritic, hue_order=['neg', 'mixed', 'pos'])\n",
    "t = plt.xlabel('Critic'); t = plt.ylabel(\"\")"
   ]
  },
  {
   "cell_type": "markdown",
   "metadata": {},
   "source": [
    "Por sua vez, uma análise mais cuidadosa nos permite identificar que o crítico utilizado como base para o *Intercept* — ou o A.O Scott — atribui uma quantidade substancial de avaliações positivas em relação aos demais. Assim sendo, também é possível verificar que críticos como a Jeannette Catsoulis apresentam um maior balanceamento de notas, com menos da metade de avaliações positivas em relação ao A.O Scott e pouco mais do dobro de avaliações negativas em relação ao mesmo. "
   ]
  },
  {
   "cell_type": "code",
   "execution_count": 8,
   "metadata": {},
   "outputs": [
    {
     "data": {
      "text/html": [
       "<div>\n",
       "<style>\n",
       "    .dataframe thead tr:only-child th {\n",
       "        text-align: right;\n",
       "    }\n",
       "\n",
       "    .dataframe thead th {\n",
       "        text-align: left;\n",
       "    }\n",
       "\n",
       "    .dataframe tbody tr th {\n",
       "        vertical-align: top;\n",
       "    }\n",
       "</style>\n",
       "<table border=\"1\" class=\"dataframe\">\n",
       "  <thead>\n",
       "    <tr style=\"text-align: right;\">\n",
       "      <th></th>\n",
       "      <th>coef</th>\n",
       "      <th>SE</th>\n",
       "      <th>t</th>\n",
       "      <th>p-value</th>\n",
       "    </tr>\n",
       "  </thead>\n",
       "  <tbody>\n",
       "    <tr>\n",
       "      <th>Intercept</th>\n",
       "      <td>56.250000</td>\n",
       "      <td>0.717279</td>\n",
       "      <td>78.421364</td>\n",
       "      <td>0.000000e+00</td>\n",
       "    </tr>\n",
       "    <tr>\n",
       "      <th>C(sentiment)[T.neg]</th>\n",
       "      <td>-18.122340</td>\n",
       "      <td>1.772475</td>\n",
       "      <td>-10.224313</td>\n",
       "      <td>5.120661e-24</td>\n",
       "    </tr>\n",
       "    <tr>\n",
       "      <th>C(sentiment)[T.pos]</th>\n",
       "      <td>18.175121</td>\n",
       "      <td>0.901523</td>\n",
       "      <td>20.160461</td>\n",
       "      <td>3.117044e-83</td>\n",
       "    </tr>\n",
       "    <tr>\n",
       "      <th>C(reviewer)[T.Jeannette Catsoulis]:C(sentiment)[mixed]</th>\n",
       "      <td>-4.797170</td>\n",
       "      <td>1.136256</td>\n",
       "      <td>-4.221911</td>\n",
       "      <td>2.518615e-05</td>\n",
       "    </tr>\n",
       "    <tr>\n",
       "      <th>C(reviewer)[T.Manohla Dargis]:C(sentiment)[mixed]</th>\n",
       "      <td>-1.750000</td>\n",
       "      <td>1.020868</td>\n",
       "      <td>-1.714228</td>\n",
       "      <td>8.662440e-02</td>\n",
       "    </tr>\n",
       "    <tr>\n",
       "      <th>C(reviewer)[T.Stephen Holden]:C(sentiment)[mixed]</th>\n",
       "      <td>-4.925676</td>\n",
       "      <td>1.087168</td>\n",
       "      <td>-4.530739</td>\n",
       "      <td>6.185020e-06</td>\n",
       "    </tr>\n",
       "    <tr>\n",
       "      <th>C(reviewer)[T.Jeannette Catsoulis]:C(sentiment)[neg]</th>\n",
       "      <td>-5.740867</td>\n",
       "      <td>1.947321</td>\n",
       "      <td>-2.948084</td>\n",
       "      <td>3.230393e-03</td>\n",
       "    </tr>\n",
       "    <tr>\n",
       "      <th>C(reviewer)[T.Manohla Dargis]:C(sentiment)[neg]</th>\n",
       "      <td>2.930033</td>\n",
       "      <td>2.236458</td>\n",
       "      <td>1.310122</td>\n",
       "      <td>1.902882e-01</td>\n",
       "    </tr>\n",
       "    <tr>\n",
       "      <th>C(reviewer)[T.Stephen Holden]:C(sentiment)[neg]</th>\n",
       "      <td>-2.949882</td>\n",
       "      <td>1.999788</td>\n",
       "      <td>-1.475098</td>\n",
       "      <td>1.403261e-01</td>\n",
       "    </tr>\n",
       "    <tr>\n",
       "      <th>C(reviewer)[T.Jeannette Catsoulis]:C(sentiment)[pos]</th>\n",
       "      <td>-5.107756</td>\n",
       "      <td>1.018646</td>\n",
       "      <td>-5.014258</td>\n",
       "      <td>5.739222e-07</td>\n",
       "    </tr>\n",
       "    <tr>\n",
       "      <th>C(reviewer)[T.Manohla Dargis]:C(sentiment)[pos]</th>\n",
       "      <td>-2.089736</td>\n",
       "      <td>0.823520</td>\n",
       "      <td>-2.537566</td>\n",
       "      <td>1.122955e-02</td>\n",
       "    </tr>\n",
       "    <tr>\n",
       "      <th>C(reviewer)[T.Stephen Holden]:C(sentiment)[pos]</th>\n",
       "      <td>-4.641447</td>\n",
       "      <td>0.895681</td>\n",
       "      <td>-5.182033</td>\n",
       "      <td>2.390149e-07</td>\n",
       "    </tr>\n",
       "  </tbody>\n",
       "</table>\n",
       "</div>"
      ],
      "text/plain": [
       "                                                         coef        SE  \\\n",
       "Intercept                                           56.250000  0.717279   \n",
       "C(sentiment)[T.neg]                                -18.122340  1.772475   \n",
       "C(sentiment)[T.pos]                                 18.175121  0.901523   \n",
       "C(reviewer)[T.Jeannette Catsoulis]:C(sentiment)...  -4.797170  1.136256   \n",
       "C(reviewer)[T.Manohla Dargis]:C(sentiment)[mixed]   -1.750000  1.020868   \n",
       "C(reviewer)[T.Stephen Holden]:C(sentiment)[mixed]   -4.925676  1.087168   \n",
       "C(reviewer)[T.Jeannette Catsoulis]:C(sentiment)...  -5.740867  1.947321   \n",
       "C(reviewer)[T.Manohla Dargis]:C(sentiment)[neg]      2.930033  2.236458   \n",
       "C(reviewer)[T.Stephen Holden]:C(sentiment)[neg]     -2.949882  1.999788   \n",
       "C(reviewer)[T.Jeannette Catsoulis]:C(sentiment)...  -5.107756  1.018646   \n",
       "C(reviewer)[T.Manohla Dargis]:C(sentiment)[pos]     -2.089736  0.823520   \n",
       "C(reviewer)[T.Stephen Holden]:C(sentiment)[pos]     -4.641447  0.895681   \n",
       "\n",
       "                                                            t       p-value  \n",
       "Intercept                                           78.421364  0.000000e+00  \n",
       "C(sentiment)[T.neg]                                -10.224313  5.120661e-24  \n",
       "C(sentiment)[T.pos]                                 20.160461  3.117044e-83  \n",
       "C(reviewer)[T.Jeannette Catsoulis]:C(sentiment)...  -4.221911  2.518615e-05  \n",
       "C(reviewer)[T.Manohla Dargis]:C(sentiment)[mixed]   -1.714228  8.662440e-02  \n",
       "C(reviewer)[T.Stephen Holden]:C(sentiment)[mixed]   -4.530739  6.185020e-06  \n",
       "C(reviewer)[T.Jeannette Catsoulis]:C(sentiment)...  -2.948084  3.230393e-03  \n",
       "C(reviewer)[T.Manohla Dargis]:C(sentiment)[neg]      1.310122  1.902882e-01  \n",
       "C(reviewer)[T.Stephen Holden]:C(sentiment)[neg]     -1.475098  1.403261e-01  \n",
       "C(reviewer)[T.Jeannette Catsoulis]:C(sentiment)...  -5.014258  5.739222e-07  \n",
       "C(reviewer)[T.Manohla Dargis]:C(sentiment)[pos]     -2.537566  1.122955e-02  \n",
       "C(reviewer)[T.Stephen Holden]:C(sentiment)[pos]     -5.182033  2.390149e-07  "
      ]
     },
     "metadata": {},
     "output_type": "display_data"
    }
   ],
   "source": [
    "model = smf.ols(formula='metascore ~ C(reviewer):C(sentiment)', data=topReviewersDF).fit()\n",
    "result = pd.concat([model.params, model.bse, model.tvalues, model.pvalues],\n",
    "                    axis=1, keys=['coef','SE','t','p-value'])\n",
    "display(result)"
   ]
  },
  {
   "cell_type": "markdown",
   "metadata": {},
   "source": [
    "Considerando-se o A.O Scott como *Intercept*, é possível ver que este costuma atribuir notas positivas mais altas em suas resenhas do que em comparação à outros críticos. Quanto às avaliações negativas, estima-se que Jeannette Catsoulis atribua as menores notas. Já entre o polo de reviews mistas, Stephen Holden atribui as menores, enquanto A.O Scott introduz, novamente, notas superiores.\n",
    "\n",
    "Nota-se que, em alguns casos, o baixo valor dos p-values nos impossibilita de rejeitar a hipótese nula. O p-value da F-statistic, por sua vez, nos mostra que estamos melhorando consideravelmente a qualidade de nosso modelo. Assim sendo, é provável que haja alguma variável inerente ao filme que esteja moldando relações internamente. A partir deste momento, direcionaremos nossas análises objetivando encontrá-las."
   ]
  },
  {
   "cell_type": "markdown",
   "metadata": {},
   "source": [
    "# Parte 2 — Gêneros"
   ]
  },
  {
   "cell_type": "markdown",
   "metadata": {},
   "source": [
    "Entre nossas hipóteses iniciais se encontrava o gênero do filme. Para prosseguir com nossas análises, iremos primeiro verificar a distribuição interna dos principais gêneros conforme ambas as variáveis dependentes que objetivamos anteriormente — o escore do The New York Times e o Metascore."
   ]
  },
  {
   "cell_type": "code",
   "execution_count": 9,
   "metadata": {
    "collapsed": true
   },
   "outputs": [],
   "source": [
    "genres = movie_data.columns[12:-1].drop('unknown')\n",
    "fiveGenres = movie_data[genres].sum().nlargest(5)\n",
    "fiveGenres = [i for i in fiveGenres.index.values]\n",
    "\n",
    "meta_content = {}; review_content = {}\n",
    "for genre in fiveGenres:\n",
    "    meta = movie_data.groupby(genre)['metascore']\n",
    "    review = movie_data.groupby(genre)['review_score']\n",
    "    meta_content[genre] = meta.get_group(1).values\n",
    "    review_content[genre] = review.get_group(1).values\n",
    "    \n",
    "fiveGenresMeta = pd.DataFrame(dict([(k,pd.Series(v)) for k,v in meta_content.items()])).reset_index(drop=True)\n",
    "fiveGenresReviews = pd.DataFrame(dict([(k,pd.Series(v)) for k,v in review_content.items()])).reset_index(drop=True)"
   ]
  },
  {
   "cell_type": "code",
   "execution_count": 10,
   "metadata": {},
   "outputs": [
    {
     "data": {
      "image/png": "[encoded data removed]",
      "text/plain": [
       "<matplotlib.figure.Figure at 0x7fa2f256ba20>"
      ]
     },
     "metadata": {},
     "output_type": "display_data"
    }
   ],
   "source": [
    "sns.set_palette('deep')\n",
    "fig, axes = plt.subplots(ncols=2, figsize=(15,5))\n",
    "sns.boxplot(data=fiveGenresMeta.dropna(), ax=axes[0])\n",
    "sns.boxplot(data=fiveGenresReviews.dropna(), ax=axes[1])\n",
    "axes[0].set_ylabel('Metascore'); axes[1].set_ylabel('NY Times score')\n",
    "for axis in axes: axis.set_xlabel('Genre')"
   ]
  },
  {
   "cell_type": "markdown",
   "metadata": {},
   "source": [
    "É possível verificar que a distribuição do Metascore se apresenta heterogênea para a maioria dos principais gêneros. Apesar disso, é possível verificar que a amplitude interquartil dos filmes de comédia e de suspense, por exemplo, se concentram mais em escores mistos, enquanto os filmes de drama estão bem distribuídos entre positivos e mistos, centrando melhor em torno do escore médio adotado pelo site (60). Em contraste, os documentários se apresentam mais homogêneos e centrados em torno de notas positivas — apesar de estes também possuírem uma quantidade maior de *outliners*.\n",
    "\n",
    "Já entre as reviews do The New York Times, podemos ver que há um pouco mais de heterogeneidade e uma redução do número de *outliners*. Não obstante, também pode-se observar que existem gêneros, a exemplo dos filmes de drama e de romance, de igual mediana, mas com amplitudes interquartis significativamente diferentes — voltadas mais para escores positivos e mais para escores mistos, respectivamente. Similarmente, também há filmes de amplitude interquartil similar, mas com medianas diferentes."
   ]
  },
  {
   "cell_type": "code",
   "execution_count": 11,
   "metadata": {},
   "outputs": [
    {
     "data": {
      "text/html": [
       "<div>\n",
       "<style>\n",
       "    .dataframe thead tr:only-child th {\n",
       "        text-align: right;\n",
       "    }\n",
       "\n",
       "    .dataframe thead th {\n",
       "        text-align: left;\n",
       "    }\n",
       "\n",
       "    .dataframe tbody tr th {\n",
       "        vertical-align: top;\n",
       "    }\n",
       "</style>\n",
       "<table border=\"1\" class=\"dataframe\">\n",
       "  <thead>\n",
       "    <tr style=\"text-align: right;\">\n",
       "      <th></th>\n",
       "      <th>coef</th>\n",
       "      <th>SE</th>\n",
       "      <th>t</th>\n",
       "      <th>p-value</th>\n",
       "    </tr>\n",
       "  </thead>\n",
       "  <tbody>\n",
       "    <tr>\n",
       "      <th>Intercept</th>\n",
       "      <td>56.562464</td>\n",
       "      <td>0.840976</td>\n",
       "      <td>67.258091</td>\n",
       "      <td>0.000000e+00</td>\n",
       "    </tr>\n",
       "    <tr>\n",
       "      <th>Drama</th>\n",
       "      <td>7.286853</td>\n",
       "      <td>0.778736</td>\n",
       "      <td>9.357280</td>\n",
       "      <td>1.907349e-20</td>\n",
       "    </tr>\n",
       "    <tr>\n",
       "      <th>Comedy</th>\n",
       "      <td>-1.837939</td>\n",
       "      <td>0.838796</td>\n",
       "      <td>-2.191163</td>\n",
       "      <td>2.854188e-02</td>\n",
       "    </tr>\n",
       "    <tr>\n",
       "      <th>Thriller</th>\n",
       "      <td>-4.321605</td>\n",
       "      <td>0.849790</td>\n",
       "      <td>-5.085495</td>\n",
       "      <td>3.968513e-07</td>\n",
       "    </tr>\n",
       "    <tr>\n",
       "      <th>Documentary</th>\n",
       "      <td>15.562309</td>\n",
       "      <td>1.263903</td>\n",
       "      <td>12.312900</td>\n",
       "      <td>9.115278e-34</td>\n",
       "    </tr>\n",
       "    <tr>\n",
       "      <th>Romance</th>\n",
       "      <td>-2.358000</td>\n",
       "      <td>1.037223</td>\n",
       "      <td>-2.273378</td>\n",
       "      <td>2.309693e-02</td>\n",
       "    </tr>\n",
       "  </tbody>\n",
       "</table>\n",
       "</div>"
      ],
      "text/plain": [
       "                  coef        SE          t       p-value\n",
       "Intercept    56.562464  0.840976  67.258091  0.000000e+00\n",
       "Drama         7.286853  0.778736   9.357280  1.907349e-20\n",
       "Comedy       -1.837939  0.838796  -2.191163  2.854188e-02\n",
       "Thriller     -4.321605  0.849790  -5.085495  3.968513e-07\n",
       "Documentary  15.562309  1.263903  12.312900  9.115278e-34\n",
       "Romance      -2.358000  1.037223  -2.273378  2.309693e-02"
      ]
     },
     "metadata": {},
     "output_type": "display_data"
    }
   ],
   "source": [
    "model = smf.ols('metascore ~ ' + ' + '.join(fiveGenres), topReviewersDF).fit()\n",
    "result = pd.concat([model.params, model.bse, model.tvalues, model.pvalues],\n",
    "                    axis=1, keys=['coef', 'SE', 't', 'p-value'])\n",
    "display(result)"
   ]
  },
  {
   "cell_type": "code",
   "execution_count": 12,
   "metadata": {},
   "outputs": [
    {
     "data": {
      "text/html": [
       "<div>\n",
       "<style>\n",
       "    .dataframe thead tr:only-child th {\n",
       "        text-align: right;\n",
       "    }\n",
       "\n",
       "    .dataframe thead th {\n",
       "        text-align: left;\n",
       "    }\n",
       "\n",
       "    .dataframe tbody tr th {\n",
       "        vertical-align: top;\n",
       "    }\n",
       "</style>\n",
       "<table border=\"1\" class=\"dataframe\">\n",
       "  <thead>\n",
       "    <tr style=\"text-align: right;\">\n",
       "      <th></th>\n",
       "      <th>coef</th>\n",
       "      <th>SE</th>\n",
       "      <th>t</th>\n",
       "      <th>p-value</th>\n",
       "    </tr>\n",
       "  </thead>\n",
       "  <tbody>\n",
       "    <tr>\n",
       "      <th>Intercept</th>\n",
       "      <td>57.898848</td>\n",
       "      <td>0.174006</td>\n",
       "      <td>332.74114</td>\n",
       "      <td>0.000000e+00</td>\n",
       "    </tr>\n",
       "    <tr>\n",
       "      <th>Romance</th>\n",
       "      <td>-2.445535</td>\n",
       "      <td>0.423488</td>\n",
       "      <td>-5.77474</td>\n",
       "      <td>7.901647e-09</td>\n",
       "    </tr>\n",
       "  </tbody>\n",
       "</table>\n",
       "</div>"
      ],
      "text/plain": [
       "                coef        SE          t       p-value\n",
       "Intercept  57.898848  0.174006  332.74114  0.000000e+00\n",
       "Romance    -2.445535  0.423488   -5.77474  7.901647e-09"
      ]
     },
     "metadata": {},
     "output_type": "display_data"
    }
   ],
   "source": [
    "model = smf.ols('metascore ~ Romance', movie_data).fit()\n",
    "result = pd.concat([model.params, model.bse, model.tvalues, model.pvalues],\n",
    "                    axis=1, keys=['coef', 'SE', 't', 'p-value'])\n",
    "display(result)"
   ]
  },
  {
   "cell_type": "markdown",
   "metadata": {},
   "source": [
    "Conforme os resultados verificados acima, é possível concluir que a categorização do filme como um documentário é habitualmente associada a um Metascore mais alto. Em contraste, filmes de suspense se encontram associados a escores mais baixos. Por fim, é possível verificar que os filmes de romance não são contemplados com um p-value muito baixo. Porém, uma análise mais cuidadosa e considerando somente os filmes de romance revela que este o possui. Isso se deve ao fato de que, entre os principais gêneros, existe uma correlação entre os filmes de romance e outros gêneros principais, como veremos mais adiante."
   ]
  },
  {
   "cell_type": "code",
   "execution_count": 13,
   "metadata": {},
   "outputs": [
    {
     "data": {
      "image/png": "[encoded data removed]",
      "text/plain": [
       "<matplotlib.figure.Figure at 0x7fa2f0288f28>"
      ]
     },
     "metadata": {},
     "output_type": "display_data"
    }
   ],
   "source": [
    "documentary_types = genres.drop('Documentary')\n",
    "\n",
    "general = smf.ols('metascore ~ ' + ' + '.join(genres), movie_data).fit()\n",
    "documentaries = smf.ols('metascore ~ Documentary:(' + ' + '.join(documentary_types) + ')', \n",
    "                        movie_data).fit()\n",
    "\n",
    "fig, axes = plt.subplots(ncols=2, figsize=(15,5))\n",
    "for model, axis in zip([general, documentaries], axes):\n",
    "    result = pd.concat([model.params, model.bse, model.tvalues, model.pvalues],\n",
    "                        axis=1, keys=['coef', 'SE', 't', 'p-value'])\n",
    "    result = result[result['p-value'] < 0.01].drop('Intercept')\n",
    "\n",
    "    for i, j, color in zip(range(15), result.coef, RAINBOW_COLORS(len(result))):\n",
    "        axis.scatter(i, j, color=color)\n",
    "    for i, txt in enumerate(result.index):\n",
    "        axis.annotate(txt, (range(15)[i], result.coef[i]))\n",
    "    axis.set_ylabel('Influence in Metascore')\n",
    "    t = axis.set_xticks([])\n",
    "    axis.axhline(0, color='black', alpha=0.6)\n",
    "    \n",
    "t = axes[1].set_yticks(np.arange(-5, 12.6, 2.5))\n",
    "plt.savefig('../observations/score-infl-per-genre.png')"
   ]
  },
  {
   "cell_type": "markdown",
   "metadata": {},
   "source": [
    "Em uma escala de primeiro nível, é vísivel que os documentários, filmes de animação e de drama estão associados a Metascores maiores, enquanto filmes de ação e de terror se encontram associados a Metascores abaixo do que o habitual. Apesar disso, como veremos mais abaixo, isso não significa que um filme que pertence aos três gêneros mais bem-avaliados simultaneamente possuirá um Metascore significativamente maior, visto que a associação entre estes gêneros é incomum e que estamos tratando apenas de escalas de primeiro nível.\n",
    "\n",
    "Já em escalas de segundo nível, podemos ver que os documentários diferem internamente. É possível ver que documentários de guerra são associados a escores mais altos do que os documentários musicais, por exemplo."
   ]
  },
  {
   "cell_type": "code",
   "execution_count": 14,
   "metadata": {},
   "outputs": [
    {
     "data": {
      "image/png": "[encoded data removed]",
      "text/plain": [
       "<matplotlib.figure.Figure at 0x7fa2f0495da0>"
      ]
     },
     "metadata": {},
     "output_type": "display_data"
    }
   ],
   "source": [
    "fig, axes = plt.subplots(ncols=2, figsize=(14,5))\n",
    "sns.heatmap(movie_data[genres].corr(), ax=axes[0])\n",
    "sns.heatmap(movie_data[fiveGenres].corr(), annot=True, ax=axes[1])\n",
    "axes[0].set_title('Correlation between genres');\n",
    "axes[1].set_title('Correlation between five main genres')\n",
    "t = plt.yticks(rotation=0)"
   ]
  },
  {
   "cell_type": "markdown",
   "metadata": {},
   "source": [
    "Ao mesmo tempo, é possível observar que, no geral, não existe uma grande correlação entre os gêneros dos filmes. Por se tratarem de atributos primordialmente categóricos — mas representados como binários —, uma correlação forte e positiva entre dois elementos (x e y) significa que a presença de x é frequentemente associada à presença de y. Logo, é esperado que não haja uma ampla correlação, visto que se tratam de ligações incomuns de serem estabelecidas. Ainda assim, podemos verificar algumas relações, a exemplo de filmes de ação que são constantemente associados a filmes de aventura, ou filmes de animação que são constantemente associados a filmes voltados à família."
   ]
  },
  {
   "cell_type": "markdown",
   "metadata": {},
   "source": [
    "Por outro lado, ao considerar somente os cinco principais gêneros, é possível verificar que estes são majoritariamente independentes, onde a presença de um gênero é constantemente associada a ausência de outro ou onde não há uma correlação propriamente dita. A única ressalva, conforme visto anteriormente no modelo de regressão, fica para os filmes de romance, que se encontram razoavelmente associados aos filmes de drama e de comédia."
   ]
  },
  {
   "cell_type": "markdown",
   "metadata": {},
   "source": [
    "# Parte 3.1 — De volta ao The New York Times"
   ]
  },
  {
   "cell_type": "markdown",
   "metadata": {},
   "source": [
    "Conforme vimos pouco acima, a consideração do gênero é um fator de influência para analisarmos os escores, visto que sua distribuição difere internamente conforme os mesmos. Assim, continuaremos nossas análises de onde paramos — desta vez, levando os gêneros dos filmes em conta."
   ]
  },
  {
   "cell_type": "code",
   "execution_count": 15,
   "metadata": {},
   "outputs": [
    {
     "data": {
      "text/plain": [
       "4.3502295335770214e-316"
      ]
     },
     "metadata": {},
     "output_type": "display_data"
    }
   ],
   "source": [
    "fiveGenres = ' + '.join(fiveGenres)\n",
    "formula = 'metascore ~ C(reviewer):C(sentiment):({})'.format(fiveGenres)\n",
    "model = smf.ols(formula, topReviewersDF).fit()\n",
    "display(model.f_pvalue)"
   ]
  },
  {
   "cell_type": "code",
   "execution_count": 16,
   "metadata": {},
   "outputs": [
    {
     "data": {
      "text/html": [
       "<div>\n",
       "<style>\n",
       "    .dataframe thead tr:only-child th {\n",
       "        text-align: right;\n",
       "    }\n",
       "\n",
       "    .dataframe thead th {\n",
       "        text-align: left;\n",
       "    }\n",
       "\n",
       "    .dataframe tbody tr th {\n",
       "        vertical-align: top;\n",
       "    }\n",
       "</style>\n",
       "<table border=\"1\" class=\"dataframe\">\n",
       "  <thead>\n",
       "    <tr style=\"text-align: right;\">\n",
       "      <th></th>\n",
       "      <th>Intercept</th>\n",
       "      <th>C(reviewer)[Stephen Holden]:C(sentiment)[mixed]:Drama</th>\n",
       "      <th>C(reviewer)[A.O. Scott]:C(sentiment)[neg]:Drama</th>\n",
       "      <th>C(reviewer)[Jeannette Catsoulis]:C(sentiment)[neg]:Drama</th>\n",
       "      <th>C(reviewer)[Manohla Dargis]:C(sentiment)[neg]:Drama</th>\n",
       "      <th>C(reviewer)[Stephen Holden]:C(sentiment)[neg]:Drama</th>\n",
       "      <th>C(reviewer)[A.O. Scott]:C(sentiment)[pos]:Drama</th>\n",
       "      <th>C(reviewer)[Jeannette Catsoulis]:C(sentiment)[pos]:Drama</th>\n",
       "      <th>C(reviewer)[Manohla Dargis]:C(sentiment)[pos]:Drama</th>\n",
       "      <th>C(reviewer)[Stephen Holden]:C(sentiment)[pos]:Drama</th>\n",
       "      <th>...</th>\n",
       "      <th>C(reviewer)[Manohla Dargis]:C(sentiment)[neg]:Thriller</th>\n",
       "      <th>C(reviewer)[Stephen Holden]:C(sentiment)[neg]:Thriller</th>\n",
       "      <th>C(reviewer)[Manohla Dargis]:C(sentiment)[mixed]:Documentary</th>\n",
       "      <th>C(reviewer)[Jeannette Catsoulis]:C(sentiment)[neg]:Documentary</th>\n",
       "      <th>C(reviewer)[Stephen Holden]:C(sentiment)[neg]:Documentary</th>\n",
       "      <th>C(reviewer)[A.O. Scott]:C(sentiment)[pos]:Documentary</th>\n",
       "      <th>C(reviewer)[Jeannette Catsoulis]:C(sentiment)[pos]:Documentary</th>\n",
       "      <th>C(reviewer)[Manohla Dargis]:C(sentiment)[pos]:Documentary</th>\n",
       "      <th>C(reviewer)[Stephen Holden]:C(sentiment)[pos]:Documentary</th>\n",
       "      <th>C(reviewer)[Stephen Holden]:C(sentiment)[neg]:Romance</th>\n",
       "    </tr>\n",
       "  </thead>\n",
       "  <tbody>\n",
       "    <tr>\n",
       "      <th>coef</th>\n",
       "      <td>57.998538</td>\n",
       "      <td>-3.647923</td>\n",
       "      <td>-14.039195</td>\n",
       "      <td>-1.296674e+01</td>\n",
       "      <td>-9.006723</td>\n",
       "      <td>-9.878860e+00</td>\n",
       "      <td>1.488817e+01</td>\n",
       "      <td>8.585674e+00</td>\n",
       "      <td>1.180448e+01</td>\n",
       "      <td>1.047685e+01</td>\n",
       "      <td>...</td>\n",
       "      <td>-10.554606</td>\n",
       "      <td>-1.645800e+01</td>\n",
       "      <td>13.504783</td>\n",
       "      <td>-17.498538</td>\n",
       "      <td>1.173780e-14</td>\n",
       "      <td>1.870193e+01</td>\n",
       "      <td>1.513537e+01</td>\n",
       "      <td>1.942895e+01</td>\n",
       "      <td>1.457001e+01</td>\n",
       "      <td>-9.509540</td>\n",
       "    </tr>\n",
       "    <tr>\n",
       "      <th>SE</th>\n",
       "      <td>0.635236</td>\n",
       "      <td>1.303019</td>\n",
       "      <td>3.150388</td>\n",
       "      <td>2.047739e+00</td>\n",
       "      <td>3.185396</td>\n",
       "      <td>1.996030e+00</td>\n",
       "      <td>9.729777e-01</td>\n",
       "      <td>1.547938e+00</td>\n",
       "      <td>1.101833e+00</td>\n",
       "      <td>1.189856e+00</td>\n",
       "      <td>...</td>\n",
       "      <td>2.911961</td>\n",
       "      <td>2.424719e+00</td>\n",
       "      <td>3.801302</td>\n",
       "      <td>4.887521</td>\n",
       "      <td>3.759335e-15</td>\n",
       "      <td>1.741408e+00</td>\n",
       "      <td>1.904277e+00</td>\n",
       "      <td>1.885509e+00</td>\n",
       "      <td>1.836105e+00</td>\n",
       "      <td>3.267912</td>\n",
       "    </tr>\n",
       "    <tr>\n",
       "      <th>t</th>\n",
       "      <td>91.302285</td>\n",
       "      <td>-2.799593</td>\n",
       "      <td>-4.456339</td>\n",
       "      <td>-6.332227e+00</td>\n",
       "      <td>-2.827505</td>\n",
       "      <td>-4.949254e+00</td>\n",
       "      <td>1.530165e+01</td>\n",
       "      <td>5.546524e+00</td>\n",
       "      <td>1.071350e+01</td>\n",
       "      <td>8.805141e+00</td>\n",
       "      <td>...</td>\n",
       "      <td>-3.624570</td>\n",
       "      <td>-6.787591e+00</td>\n",
       "      <td>3.552673</td>\n",
       "      <td>-3.580248</td>\n",
       "      <td>3.122308e+00</td>\n",
       "      <td>1.073954e+01</td>\n",
       "      <td>7.948093e+00</td>\n",
       "      <td>1.030435e+01</td>\n",
       "      <td>7.935283e+00</td>\n",
       "      <td>-2.909974</td>\n",
       "    </tr>\n",
       "    <tr>\n",
       "      <th>p-value</th>\n",
       "      <td>0.000000</td>\n",
       "      <td>0.005161</td>\n",
       "      <td>0.000009</td>\n",
       "      <td>2.919275e-10</td>\n",
       "      <td>0.004734</td>\n",
       "      <td>8.013768e-07</td>\n",
       "      <td>2.609774e-50</td>\n",
       "      <td>3.263162e-08</td>\n",
       "      <td>3.822516e-26</td>\n",
       "      <td>2.587703e-18</td>\n",
       "      <td>...</td>\n",
       "      <td>0.000296</td>\n",
       "      <td>1.460547e-11</td>\n",
       "      <td>0.000389</td>\n",
       "      <td>0.000351</td>\n",
       "      <td>1.817669e-03</td>\n",
       "      <td>2.924506e-26</td>\n",
       "      <td>2.994389e-15</td>\n",
       "      <td>2.379003e-24</td>\n",
       "      <td>3.310726e-15</td>\n",
       "      <td>0.003651</td>\n",
       "    </tr>\n",
       "  </tbody>\n",
       "</table>\n",
       "<p>4 rows × 34 columns</p>\n",
       "</div>"
      ],
      "text/plain": [
       "         Intercept  C(reviewer)[Stephen Holden]:C(sentiment)[mixed]:Drama  \\\n",
       "coef     57.998538                                          -3.647923       \n",
       "SE        0.635236                                           1.303019       \n",
       "t        91.302285                                          -2.799593       \n",
       "p-value   0.000000                                           0.005161       \n",
       "\n",
       "         C(reviewer)[A.O. Scott]:C(sentiment)[neg]:Drama  \\\n",
       "coef                                          -14.039195   \n",
       "SE                                              3.150388   \n",
       "t                                              -4.456339   \n",
       "p-value                                         0.000009   \n",
       "\n",
       "         C(reviewer)[Jeannette Catsoulis]:C(sentiment)[neg]:Drama  \\\n",
       "coef                                         -1.296674e+01          \n",
       "SE                                            2.047739e+00          \n",
       "t                                            -6.332227e+00          \n",
       "p-value                                       2.919275e-10          \n",
       "\n",
       "         C(reviewer)[Manohla Dargis]:C(sentiment)[neg]:Drama  \\\n",
       "coef                                             -9.006723     \n",
       "SE                                                3.185396     \n",
       "t                                                -2.827505     \n",
       "p-value                                           0.004734     \n",
       "\n",
       "         C(reviewer)[Stephen Holden]:C(sentiment)[neg]:Drama  \\\n",
       "coef                                         -9.878860e+00     \n",
       "SE                                            1.996030e+00     \n",
       "t                                            -4.949254e+00     \n",
       "p-value                                       8.013768e-07     \n",
       "\n",
       "         C(reviewer)[A.O. Scott]:C(sentiment)[pos]:Drama  \\\n",
       "coef                                        1.488817e+01   \n",
       "SE                                          9.729777e-01   \n",
       "t                                           1.530165e+01   \n",
       "p-value                                     2.609774e-50   \n",
       "\n",
       "         C(reviewer)[Jeannette Catsoulis]:C(sentiment)[pos]:Drama  \\\n",
       "coef                                          8.585674e+00          \n",
       "SE                                            1.547938e+00          \n",
       "t                                             5.546524e+00          \n",
       "p-value                                       3.263162e-08          \n",
       "\n",
       "         C(reviewer)[Manohla Dargis]:C(sentiment)[pos]:Drama  \\\n",
       "coef                                          1.180448e+01     \n",
       "SE                                            1.101833e+00     \n",
       "t                                             1.071350e+01     \n",
       "p-value                                       3.822516e-26     \n",
       "\n",
       "         C(reviewer)[Stephen Holden]:C(sentiment)[pos]:Drama  \\\n",
       "coef                                          1.047685e+01     \n",
       "SE                                            1.189856e+00     \n",
       "t                                             8.805141e+00     \n",
       "p-value                                       2.587703e-18     \n",
       "\n",
       "                                 ...                            \\\n",
       "coef                             ...                             \n",
       "SE                               ...                             \n",
       "t                                ...                             \n",
       "p-value                          ...                             \n",
       "\n",
       "         C(reviewer)[Manohla Dargis]:C(sentiment)[neg]:Thriller  \\\n",
       "coef                                            -10.554606        \n",
       "SE                                                2.911961        \n",
       "t                                                -3.624570        \n",
       "p-value                                           0.000296        \n",
       "\n",
       "         C(reviewer)[Stephen Holden]:C(sentiment)[neg]:Thriller  \\\n",
       "coef                                         -1.645800e+01        \n",
       "SE                                            2.424719e+00        \n",
       "t                                            -6.787591e+00        \n",
       "p-value                                       1.460547e-11        \n",
       "\n",
       "         C(reviewer)[Manohla Dargis]:C(sentiment)[mixed]:Documentary  \\\n",
       "coef                                             13.504783             \n",
       "SE                                                3.801302             \n",
       "t                                                 3.552673             \n",
       "p-value                                           0.000389             \n",
       "\n",
       "         C(reviewer)[Jeannette Catsoulis]:C(sentiment)[neg]:Documentary  \\\n",
       "coef                                            -17.498538                \n",
       "SE                                                4.887521                \n",
       "t                                                -3.580248                \n",
       "p-value                                           0.000351                \n",
       "\n",
       "         C(reviewer)[Stephen Holden]:C(sentiment)[neg]:Documentary  \\\n",
       "coef                                          1.173780e-14           \n",
       "SE                                            3.759335e-15           \n",
       "t                                             3.122308e+00           \n",
       "p-value                                       1.817669e-03           \n",
       "\n",
       "         C(reviewer)[A.O. Scott]:C(sentiment)[pos]:Documentary  \\\n",
       "coef                                          1.870193e+01       \n",
       "SE                                            1.741408e+00       \n",
       "t                                             1.073954e+01       \n",
       "p-value                                       2.924506e-26       \n",
       "\n",
       "         C(reviewer)[Jeannette Catsoulis]:C(sentiment)[pos]:Documentary  \\\n",
       "coef                                          1.513537e+01                \n",
       "SE                                            1.904277e+00                \n",
       "t                                             7.948093e+00                \n",
       "p-value                                       2.994389e-15                \n",
       "\n",
       "         C(reviewer)[Manohla Dargis]:C(sentiment)[pos]:Documentary  \\\n",
       "coef                                          1.942895e+01           \n",
       "SE                                            1.885509e+00           \n",
       "t                                             1.030435e+01           \n",
       "p-value                                       2.379003e-24           \n",
       "\n",
       "         C(reviewer)[Stephen Holden]:C(sentiment)[pos]:Documentary  \\\n",
       "coef                                          1.457001e+01           \n",
       "SE                                            1.836105e+00           \n",
       "t                                             7.935283e+00           \n",
       "p-value                                       3.310726e-15           \n",
       "\n",
       "         C(reviewer)[Stephen Holden]:C(sentiment)[neg]:Romance  \n",
       "coef                                             -9.509540      \n",
       "SE                                                3.267912      \n",
       "t                                                -2.909974      \n",
       "p-value                                           0.003651      \n",
       "\n",
       "[4 rows x 34 columns]"
      ]
     },
     "metadata": {},
     "output_type": "display_data"
    }
   ],
   "source": [
    "result = pd.concat([model.params, model.bse, model.tvalues, model.pvalues],\n",
    "                    axis=1, keys=['coef', 'SE', 't', 'p-value'])\n",
    "display(result[result['p-value'] < 0.01].T)"
   ]
  },
  {
   "cell_type": "markdown",
   "metadata": {},
   "source": [
    "Torna-se, então, visível que as avaliações feitas pelos críticos varia conforme o gênero. A exemplo da crítica Jeannette Catsoulis, percebe-se que as avaliações negativas feitas pela mesma em filmes de Drama tendem a influenciar o Metascore da estimativa padrão (cerca de 58 pontos) em cerca de 13 pontos a menos. Já para os documentários, podemos verificar que esta influência passa para 17,5 pontos. Similarmente às observações acima, outros críticos, a exemplo da Manohla Dargis, influenciam filmes de drama negativamente com uma queda de 9 pontos — três pontos a menos, se comparada com Jeannette. "
   ]
  },
  {
   "cell_type": "markdown",
   "metadata": {},
   "source": [
    "# Parte 3.2 — Escore dos usuários"
   ]
  },
  {
   "cell_type": "code",
   "execution_count": 17,
   "metadata": {},
   "outputs": [
    {
     "data": {
      "text/plain": [
       "<matplotlib.text.Text at 0x7fa2efdb2208>"
      ]
     },
     "execution_count": 17,
     "metadata": {},
     "output_type": "execute_result"
    },
    {
     "data": {
      "image/png": "[encoded data removed]",
      "text/plain": [
       "<matplotlib.figure.Figure at 0x7fa2efe0a7f0>"
      ]
     },
     "metadata": {},
     "output_type": "display_data"
    }
   ],
   "source": [
    "sns.kdeplot(movie_data.user_score.dropna(), color='#29AB87', shade=True)\n",
    "sns.kdeplot(movie_data.metascore.dropna(), color='#F1444A', shade=True)\n",
    "\n",
    "plt.axhline(0, color='black', alpha=0.6)\n",
    "plt.axvline(0, color='black', alpha=0.6)\n",
    "plt.xlabel('Score')\n",
    "plt.ylabel('Frequency')"
   ]
  },
  {
   "cell_type": "markdown",
   "metadata": {},
   "source": [
    "A distribuição de notas nos mostra que os usuários, em um panorama geral, tendem a atribuir escores mais altos e próximos de uma faixa positiva. O Metascore, por sua vez, se apresenta mais distribuído e centrado em torno de avaliações mistas e positivas, além de também possuir maior frequência de escores negativos."
   ]
  },
  {
   "cell_type": "code",
   "execution_count": 18,
   "metadata": {},
   "outputs": [
    {
     "data": {
      "image/png": "[encoded data removed]",
      "text/plain": [
       "<matplotlib.figure.Figure at 0x7fa2ee52cf28>"
      ]
     },
     "metadata": {},
     "output_type": "display_data"
    }
   ],
   "source": [
    "fig, axes = plt.subplots(ncols=2, figsize=(14,5))\n",
    "past_decade = movie_data[movie_data['release_decade']=='2000s'].sample(400)\n",
    "now = movie_data[movie_data['release_decade']=='2010s'].sample(400)\n",
    "\n",
    "sns.regplot('metascore', 'user_score', past_decade, ax=axes[0])\n",
    "sns.regplot('metascore', 'user_score', now, ax=axes[1])\n",
    "for axis in axes:\n",
    "    axis.set_xticks(range(10,101,10))\n",
    "    axis.set_yticks(range(10,101,10))"
   ]
  },
  {
   "cell_type": "markdown",
   "metadata": {},
   "source": [
    "Conforme pode ser verificado acima, ao pegarmos uma amostra de 400 elementos, é possível ver que a influência do Metascore sobre o escore global dos usuários aumentou um pouco em relação à última década, apesar de ambas se demonstrarem igualmente pertinentes de que esta influência existe."
   ]
  },
  {
   "cell_type": "code",
   "execution_count": 19,
   "metadata": {},
   "outputs": [
    {
     "data": {
      "text/plain": [
       "3.3134109870049178e-59"
      ]
     },
     "metadata": {},
     "output_type": "display_data"
    }
   ],
   "source": [
    "formula = 'user_score ~ C(reviewer):C(sentiment):({})'.format(fiveGenres)\n",
    "model = smf.ols(formula, topReviewersDF).fit()\n",
    "display(model.f_pvalue)"
   ]
  },
  {
   "cell_type": "code",
   "execution_count": 20,
   "metadata": {},
   "outputs": [
    {
     "data": {
      "text/html": [
       "<div>\n",
       "<style>\n",
       "    .dataframe thead tr:only-child th {\n",
       "        text-align: right;\n",
       "    }\n",
       "\n",
       "    .dataframe thead th {\n",
       "        text-align: left;\n",
       "    }\n",
       "\n",
       "    .dataframe tbody tr th {\n",
       "        vertical-align: top;\n",
       "    }\n",
       "</style>\n",
       "<table border=\"1\" class=\"dataframe\">\n",
       "  <thead>\n",
       "    <tr style=\"text-align: right;\">\n",
       "      <th></th>\n",
       "      <th>Intercept</th>\n",
       "      <th>C(reviewer)[A.O. Scott]:C(sentiment)[pos]:Drama</th>\n",
       "      <th>C(reviewer)[Manohla Dargis]:C(sentiment)[pos]:Drama</th>\n",
       "      <th>C(reviewer)[A.O. Scott]:C(sentiment)[mixed]:Comedy</th>\n",
       "      <th>C(reviewer)[A.O. Scott]:C(sentiment)[neg]:Comedy</th>\n",
       "      <th>C(reviewer)[Jeannette Catsoulis]:C(sentiment)[neg]:Comedy</th>\n",
       "      <th>C(reviewer)[Stephen Holden]:C(sentiment)[neg]:Comedy</th>\n",
       "      <th>C(reviewer)[Jeannette Catsoulis]:C(sentiment)[mixed]:Thriller</th>\n",
       "      <th>C(reviewer)[A.O. Scott]:C(sentiment)[neg]:Thriller</th>\n",
       "      <th>C(reviewer)[Jeannette Catsoulis]:C(sentiment)[neg]:Thriller</th>\n",
       "      <th>C(reviewer)[Stephen Holden]:C(sentiment)[neg]:Thriller</th>\n",
       "      <th>C(reviewer)[Manohla Dargis]:C(sentiment)[mixed]:Documentary</th>\n",
       "      <th>C(reviewer)[Stephen Holden]:C(sentiment)[neg]:Documentary</th>\n",
       "      <th>C(reviewer)[A.O. Scott]:C(sentiment)[pos]:Documentary</th>\n",
       "      <th>C(reviewer)[Jeannette Catsoulis]:C(sentiment)[pos]:Documentary</th>\n",
       "      <th>C(reviewer)[Manohla Dargis]:C(sentiment)[pos]:Documentary</th>\n",
       "      <th>C(reviewer)[Stephen Holden]:C(sentiment)[pos]:Documentary</th>\n",
       "    </tr>\n",
       "  </thead>\n",
       "  <tbody>\n",
       "    <tr>\n",
       "      <th>coef</th>\n",
       "      <td>64.855234</td>\n",
       "      <td>5.685683e+00</td>\n",
       "      <td>4.952182</td>\n",
       "      <td>-3.868204</td>\n",
       "      <td>-10.942739</td>\n",
       "      <td>-12.300843</td>\n",
       "      <td>-6.105699</td>\n",
       "      <td>-4.521459</td>\n",
       "      <td>-9.357069</td>\n",
       "      <td>-1.517589e+01</td>\n",
       "      <td>-8.043346</td>\n",
       "      <td>13.014581</td>\n",
       "      <td>1.023589e-14</td>\n",
       "      <td>5.041408</td>\n",
       "      <td>6.052075</td>\n",
       "      <td>9.266244e+00</td>\n",
       "      <td>7.649141</td>\n",
       "    </tr>\n",
       "    <tr>\n",
       "      <th>SE</th>\n",
       "      <td>0.611071</td>\n",
       "      <td>9.359639e-01</td>\n",
       "      <td>1.059917</td>\n",
       "      <td>1.405158</td>\n",
       "      <td>3.117392</td>\n",
       "      <td>2.767499</td>\n",
       "      <td>2.138285</td>\n",
       "      <td>1.619303</td>\n",
       "      <td>3.490474</td>\n",
       "      <td>1.889907e+00</td>\n",
       "      <td>2.332478</td>\n",
       "      <td>3.656694</td>\n",
       "      <td>3.616323e-15</td>\n",
       "      <td>1.675161</td>\n",
       "      <td>1.831834</td>\n",
       "      <td>1.813781e+00</td>\n",
       "      <td>1.766256</td>\n",
       "    </tr>\n",
       "    <tr>\n",
       "      <th>t</th>\n",
       "      <td>106.133737</td>\n",
       "      <td>6.074683e+00</td>\n",
       "      <td>4.672236</td>\n",
       "      <td>-2.752861</td>\n",
       "      <td>-3.510223</td>\n",
       "      <td>-4.444750</td>\n",
       "      <td>-2.855419</td>\n",
       "      <td>-2.792225</td>\n",
       "      <td>-2.680745</td>\n",
       "      <td>-8.029963e+00</td>\n",
       "      <td>-3.448412</td>\n",
       "      <td>3.559112</td>\n",
       "      <td>2.830468e+00</td>\n",
       "      <td>3.009506</td>\n",
       "      <td>3.303833</td>\n",
       "      <td>5.108801e+00</td>\n",
       "      <td>4.330709</td>\n",
       "    </tr>\n",
       "    <tr>\n",
       "      <th>p-value</th>\n",
       "      <td>0.000000</td>\n",
       "      <td>1.459197e-09</td>\n",
       "      <td>0.000003</td>\n",
       "      <td>0.005956</td>\n",
       "      <td>0.000457</td>\n",
       "      <td>0.000009</td>\n",
       "      <td>0.004338</td>\n",
       "      <td>0.005280</td>\n",
       "      <td>0.007401</td>\n",
       "      <td>1.570532e-15</td>\n",
       "      <td>0.000574</td>\n",
       "      <td>0.000380</td>\n",
       "      <td>4.690105e-03</td>\n",
       "      <td>0.002646</td>\n",
       "      <td>0.000969</td>\n",
       "      <td>3.520659e-07</td>\n",
       "      <td>0.000016</td>\n",
       "    </tr>\n",
       "  </tbody>\n",
       "</table>\n",
       "</div>"
      ],
      "text/plain": [
       "          Intercept  C(reviewer)[A.O. Scott]:C(sentiment)[pos]:Drama  \\\n",
       "coef      64.855234                                     5.685683e+00   \n",
       "SE         0.611071                                     9.359639e-01   \n",
       "t        106.133737                                     6.074683e+00   \n",
       "p-value    0.000000                                     1.459197e-09   \n",
       "\n",
       "         C(reviewer)[Manohla Dargis]:C(sentiment)[pos]:Drama  \\\n",
       "coef                                              4.952182     \n",
       "SE                                                1.059917     \n",
       "t                                                 4.672236     \n",
       "p-value                                           0.000003     \n",
       "\n",
       "         C(reviewer)[A.O. Scott]:C(sentiment)[mixed]:Comedy  \\\n",
       "coef                                             -3.868204    \n",
       "SE                                                1.405158    \n",
       "t                                                -2.752861    \n",
       "p-value                                           0.005956    \n",
       "\n",
       "         C(reviewer)[A.O. Scott]:C(sentiment)[neg]:Comedy  \\\n",
       "coef                                           -10.942739   \n",
       "SE                                               3.117392   \n",
       "t                                               -3.510223   \n",
       "p-value                                          0.000457   \n",
       "\n",
       "         C(reviewer)[Jeannette Catsoulis]:C(sentiment)[neg]:Comedy  \\\n",
       "coef                                            -12.300843           \n",
       "SE                                                2.767499           \n",
       "t                                                -4.444750           \n",
       "p-value                                           0.000009           \n",
       "\n",
       "         C(reviewer)[Stephen Holden]:C(sentiment)[neg]:Comedy  \\\n",
       "coef                                             -6.105699      \n",
       "SE                                                2.138285      \n",
       "t                                                -2.855419      \n",
       "p-value                                           0.004338      \n",
       "\n",
       "         C(reviewer)[Jeannette Catsoulis]:C(sentiment)[mixed]:Thriller  \\\n",
       "coef                                             -4.521459               \n",
       "SE                                                1.619303               \n",
       "t                                                -2.792225               \n",
       "p-value                                           0.005280               \n",
       "\n",
       "         C(reviewer)[A.O. Scott]:C(sentiment)[neg]:Thriller  \\\n",
       "coef                                             -9.357069    \n",
       "SE                                                3.490474    \n",
       "t                                                -2.680745    \n",
       "p-value                                           0.007401    \n",
       "\n",
       "         C(reviewer)[Jeannette Catsoulis]:C(sentiment)[neg]:Thriller  \\\n",
       "coef                                         -1.517589e+01             \n",
       "SE                                            1.889907e+00             \n",
       "t                                            -8.029963e+00             \n",
       "p-value                                       1.570532e-15             \n",
       "\n",
       "         C(reviewer)[Stephen Holden]:C(sentiment)[neg]:Thriller  \\\n",
       "coef                                             -8.043346        \n",
       "SE                                                2.332478        \n",
       "t                                                -3.448412        \n",
       "p-value                                           0.000574        \n",
       "\n",
       "         C(reviewer)[Manohla Dargis]:C(sentiment)[mixed]:Documentary  \\\n",
       "coef                                             13.014581             \n",
       "SE                                                3.656694             \n",
       "t                                                 3.559112             \n",
       "p-value                                           0.000380             \n",
       "\n",
       "         C(reviewer)[Stephen Holden]:C(sentiment)[neg]:Documentary  \\\n",
       "coef                                          1.023589e-14           \n",
       "SE                                            3.616323e-15           \n",
       "t                                             2.830468e+00           \n",
       "p-value                                       4.690105e-03           \n",
       "\n",
       "         C(reviewer)[A.O. Scott]:C(sentiment)[pos]:Documentary  \\\n",
       "coef                                              5.041408       \n",
       "SE                                                1.675161       \n",
       "t                                                 3.009506       \n",
       "p-value                                           0.002646       \n",
       "\n",
       "         C(reviewer)[Jeannette Catsoulis]:C(sentiment)[pos]:Documentary  \\\n",
       "coef                                              6.052075                \n",
       "SE                                                1.831834                \n",
       "t                                                 3.303833                \n",
       "p-value                                           0.000969                \n",
       "\n",
       "         C(reviewer)[Manohla Dargis]:C(sentiment)[pos]:Documentary  \\\n",
       "coef                                          9.266244e+00           \n",
       "SE                                            1.813781e+00           \n",
       "t                                             5.108801e+00           \n",
       "p-value                                       3.520659e-07           \n",
       "\n",
       "         C(reviewer)[Stephen Holden]:C(sentiment)[pos]:Documentary  \n",
       "coef                                              7.649141          \n",
       "SE                                                1.766256          \n",
       "t                                                 4.330709          \n",
       "p-value                                           0.000016          "
      ]
     },
     "metadata": {},
     "output_type": "display_data"
    }
   ],
   "source": [
    "result = pd.concat([model.params, model.bse, model.tvalues, model.pvalues],\n",
    "                    axis=1, keys=['coef', 'SE', 't', 'p-value'])\n",
    "display(result[result['p-value'] < 0.01].T)"
   ]
  },
  {
   "cell_type": "markdown",
   "metadata": {},
   "source": [
    "Assim como fizemos com o Metascore mais acima, também é possível ver que a influência no escore dos usuários varia conforme o gênero, o crítico e o sentimento da avaliação. O sentimento negativo de Stephen Holden para filmes de suspense, por exemplo, tende a influenciar o Metascore em 8 pontos a menos. Nos mesmos parâmetros, Jeannette Catsoulis possui uma influência de 15 pontos a menos no Metascore. O *p-value* da *F-statistic*, mais uma vez, nos mostra que estamos melhorando nosso modelo com a consideração destas variáveis. Seguiremos, então, em busca de outras características que possam ser de influência."
   ]
  },
  {
   "cell_type": "markdown",
   "metadata": {},
   "source": [
    "# Parte 4.1 — Idioma"
   ]
  },
  {
   "cell_type": "code",
   "execution_count": 21,
   "metadata": {
    "collapsed": true
   },
   "outputs": [],
   "source": [
    "languagesQtd = movie_data.groupby('languages')[['metascore']].count().drop('unknown')\n",
    "fiveLanguages = languagesQtd.nlargest(5, ['metascore'])\n",
    "fiveLanguages = [i for i in fiveLanguages.index.values]"
   ]
  },
  {
   "cell_type": "code",
   "execution_count": 22,
   "metadata": {
    "collapsed": true
   },
   "outputs": [],
   "source": [
    "getFiveLanguages = lambda i: i[12] in fiveLanguages\n",
    "topLanguagesDF = movie_data[list(map(getFiveLanguages, movie_data.itertuples()))]\n",
    "topLanguagesDF.languages.cat.remove_unused_categories(inplace=True)\n",
    "topLanguagesDF = topLanguagesDF.reset_index(drop=True).dropna()"
   ]
  },
  {
   "cell_type": "code",
   "execution_count": 23,
   "metadata": {},
   "outputs": [
    {
     "data": {
      "text/html": [
       "<div>\n",
       "<style>\n",
       "    .dataframe thead tr:only-child th {\n",
       "        text-align: right;\n",
       "    }\n",
       "\n",
       "    .dataframe thead th {\n",
       "        text-align: left;\n",
       "    }\n",
       "\n",
       "    .dataframe tbody tr th {\n",
       "        vertical-align: top;\n",
       "    }\n",
       "</style>\n",
       "<table border=\"1\" class=\"dataframe\">\n",
       "  <thead>\n",
       "    <tr style=\"text-align: right;\">\n",
       "      <th></th>\n",
       "      <th>coef</th>\n",
       "      <th>SE</th>\n",
       "      <th>t</th>\n",
       "      <th>p-value</th>\n",
       "    </tr>\n",
       "  </thead>\n",
       "  <tbody>\n",
       "    <tr>\n",
       "      <th>Intercept</th>\n",
       "      <td>55.890741</td>\n",
       "      <td>0.331071</td>\n",
       "      <td>168.817936</td>\n",
       "      <td>0.000000e+00</td>\n",
       "    </tr>\n",
       "    <tr>\n",
       "      <th>C(languages)[T.French]</th>\n",
       "      <td>13.541951</td>\n",
       "      <td>1.755169</td>\n",
       "      <td>7.715467</td>\n",
       "      <td>1.622095e-14</td>\n",
       "    </tr>\n",
       "    <tr>\n",
       "      <th>C(languages)[T.German]</th>\n",
       "      <td>13.938527</td>\n",
       "      <td>2.765110</td>\n",
       "      <td>5.040858</td>\n",
       "      <td>4.905487e-07</td>\n",
       "    </tr>\n",
       "    <tr>\n",
       "      <th>C(languages)[T.Japanese]</th>\n",
       "      <td>14.109259</td>\n",
       "      <td>2.798971</td>\n",
       "      <td>5.040874</td>\n",
       "      <td>4.905096e-07</td>\n",
       "    </tr>\n",
       "    <tr>\n",
       "      <th>C(languages)[T.Spanish]</th>\n",
       "      <td>11.309259</td>\n",
       "      <td>2.641202</td>\n",
       "      <td>4.281861</td>\n",
       "      <td>1.910654e-05</td>\n",
       "    </tr>\n",
       "  </tbody>\n",
       "</table>\n",
       "</div>"
      ],
      "text/plain": [
       "                               coef        SE           t       p-value\n",
       "Intercept                 55.890741  0.331071  168.817936  0.000000e+00\n",
       "C(languages)[T.French]    13.541951  1.755169    7.715467  1.622095e-14\n",
       "C(languages)[T.German]    13.938527  2.765110    5.040858  4.905487e-07\n",
       "C(languages)[T.Japanese]  14.109259  2.798971    5.040874  4.905096e-07\n",
       "C(languages)[T.Spanish]   11.309259  2.641202    4.281861  1.910654e-05"
      ]
     },
     "metadata": {},
     "output_type": "display_data"
    },
    {
     "data": {
      "text/plain": [
       "6.2971211145582876e-25"
      ]
     },
     "metadata": {},
     "output_type": "display_data"
    }
   ],
   "source": [
    "model = smf.ols(formula='metascore ~ C(languages)', data=topLanguagesDF).fit()\n",
    "\n",
    "result = pd.concat([model.params, model.bse, model.tvalues, model.pvalues],\n",
    "                   axis=1, keys=['coef','SE','t','p-value'])\n",
    "display(result)\n",
    "display(model.f_pvalue)"
   ]
  },
  {
   "cell_type": "markdown",
   "metadata": {},
   "source": [
    "Apesar de, em um primeiro momento, não termos observado uma correlação entre os idiomas, uma análise mais cuidadosa, selecionando os cinco principais idiomas, nos mostra claramente que há uma relação. O baixo *p-value* nos permite concluir que também estamos melhorando nosso modelo. Podemos também realizar a observação da distribuições."
   ]
  },
  {
   "cell_type": "code",
   "execution_count": 24,
   "metadata": {
    "collapsed": true
   },
   "outputs": [],
   "source": [
    "meta_content = {}; review_content = {}\n",
    "for lang in fiveLanguages:\n",
    "    meta = movie_data.groupby('languages')['metascore']\n",
    "    review = movie_data.groupby('languages')['review_score']\n",
    "    meta_content[lang] = meta.get_group(lang).values\n",
    "    review_content[lang] = review.get_group(lang).values\n",
    "    \n",
    "fiveLangsMeta = pd.DataFrame(dict([(k,pd.Series(v)) for k,v in meta_content.items()])).reset_index(drop=True)\n",
    "fiveLangsReviews = pd.DataFrame(dict([(k,pd.Series(v)) for k,v in review_content.items()])).reset_index(drop=True)"
   ]
  },
  {
   "cell_type": "code",
   "execution_count": 25,
   "metadata": {},
   "outputs": [
    {
     "data": {
      "image/png": "[encoded data removed]",
      "text/plain": [
       "<matplotlib.figure.Figure at 0x7fa2f0118390>"
      ]
     },
     "metadata": {},
     "output_type": "display_data"
    }
   ],
   "source": [
    "fig, axes = plt.subplots(ncols=2, figsize=(15,5))\n",
    "sns.boxplot(data=fiveLangsMeta.dropna(), ax=axes[0])\n",
    "sns.boxplot(data=fiveLangsReviews.dropna(), ax=axes[1])\n",
    "axes[0].set_ylabel('Metascore'); axes[1].set_ylabel('NY Times score')\n",
    "for axis in axes: axis.set_xlabel('Language')"
   ]
  },
  {
   "cell_type": "markdown",
   "metadata": {},
   "source": [
    "É possível ver que a distribuição das avaliações do The New York Times por idioma se apresenta mais heterogênea do que as distribuições dos Metascores. Em ambos os casos, é possível ver que os filmes dos outros idiomas principais se encontram associados a escores maiores do que os filmes em inglês. Em especial, a distribuição do Metascore em filmes franceses e alemães se encontram bem homogêneas e centradas em torno do polo positivo de resenhas."
   ]
  },
  {
   "cell_type": "code",
   "execution_count": 26,
   "metadata": {},
   "outputs": [
    {
     "data": {
      "image/png": "[encoded data removed]",
      "text/plain": [
       "<matplotlib.figure.Figure at 0x7fa2efdf3550>"
      ]
     },
     "metadata": {},
     "output_type": "display_data"
    }
   ],
   "source": [
    "meta = smf.ols('metascore ~ C(languages)', topLanguagesDF).fit()\n",
    "user = smf.ols('user_score ~ C(languages)', topLanguagesDF).fit()\n",
    "\n",
    "fig, axes = plt.subplots(ncols=2, figsize=(15,5))\n",
    "for axis, model in zip(axes, [meta, user]):\n",
    "    result = pd.concat([model.params, model.bse, model.tvalues, model.pvalues],\n",
    "                        axis=1, keys=['coef', 'SE', 't', 'p-value'])\n",
    "    result = result[result['p-value'] < 0.01].drop('Intercept')\n",
    "\n",
    "    for i, j, color in zip(range(len(result)), result.coef, RAINBOW_COLORS(len(result))):\n",
    "        axis.scatter(i, j, color=color)\n",
    "    for i, txt in enumerate(result.index):\n",
    "        txt = txt[15:-1]\n",
    "        axis.annotate(txt, (range(15)[i], result.coef[i]))\n",
    "    t = axis.set_xticks([]); axis.set_xlim(-0.5, 3.5)\n",
    "    t = axis.set_yticks(np.arange(-5, 20, 2.5))\n",
    "    axis.axhline(0, color='black', alpha=0.6)\n",
    "    axis.annotate('English', (3.5, -0.3))\n",
    "\n",
    "axes[0].set_ylabel('Influence in Metascore')\n",
    "axes[1].set_ylabel('Influence in User Score')\n",
    "plt.savefig('../observations/score-infl-per-lang.png')"
   ]
  },
  {
   "cell_type": "markdown",
   "metadata": {},
   "source": [
    "Sumarizando o que vimos nos resultados de nosso modelo mais acima, considerando os filmes em inglês como o padrão para o *Intercept*, é possível ver que os filmes em outros idiomas tendem a possuir escores superiores. Os filmes japoneses, como vimos anteriormente, possuem a maior influência no Metascore com sua categorização, seguidos pelos filmes alemães, franceses, logo após, espanhóis. \n",
    "\n",
    "Já em relação ao escore dos usuários, é possível ver que os filmes japoneses aparecem com uma larga folga em relação aos demais, enquanto a diferença de influência entre filmes alemães e espanhóis diminui. Quanto aos filmes franceses, não fora possível rejeitar a hipótese nula de que estes não possuem influência. Para melhorar nossas considerações, podemos também cruzar esta relação com o gênero do filme, pois conforme já verificado, este também exerce influência no Metascore e nos escores dos usuários."
   ]
  },
  {
   "cell_type": "code",
   "execution_count": 27,
   "metadata": {},
   "outputs": [
    {
     "data": {
      "text/plain": [
       "1.2065563748513783e-107"
      ]
     },
     "execution_count": 27,
     "metadata": {},
     "output_type": "execute_result"
    }
   ],
   "source": [
    "formula = 'metascore ~ C(languages):({})'.format(fiveGenres)\n",
    "model = smf.ols(formula, topLanguagesDF).fit()\n",
    "model.f_pvalue"
   ]
  },
  {
   "cell_type": "code",
   "execution_count": 28,
   "metadata": {},
   "outputs": [
    {
     "data": {
      "text/html": [
       "<div>\n",
       "<style>\n",
       "    .dataframe thead tr:only-child th {\n",
       "        text-align: right;\n",
       "    }\n",
       "\n",
       "    .dataframe thead th {\n",
       "        text-align: left;\n",
       "    }\n",
       "\n",
       "    .dataframe tbody tr th {\n",
       "        vertical-align: top;\n",
       "    }\n",
       "</style>\n",
       "<table border=\"1\" class=\"dataframe\">\n",
       "  <thead>\n",
       "    <tr style=\"text-align: right;\">\n",
       "      <th></th>\n",
       "      <th>Intercept</th>\n",
       "      <th>C(languages)[English]:Drama</th>\n",
       "      <th>C(languages)[French]:Drama</th>\n",
       "      <th>C(languages)[German]:Drama</th>\n",
       "      <th>C(languages)[Japanese]:Drama</th>\n",
       "      <th>C(languages)[Spanish]:Drama</th>\n",
       "      <th>C(languages)[English]:Thriller</th>\n",
       "      <th>C(languages)[English]:Documentary</th>\n",
       "      <th>C(languages)[French]:Documentary</th>\n",
       "      <th>C(languages)[Japanese]:Documentary</th>\n",
       "    </tr>\n",
       "  </thead>\n",
       "  <tbody>\n",
       "    <tr>\n",
       "      <th>coef</th>\n",
       "      <td>51.004667</td>\n",
       "      <td>7.599810e+00</td>\n",
       "      <td>1.967389e+01</td>\n",
       "      <td>1.717875e+01</td>\n",
       "      <td>15.735145</td>\n",
       "      <td>1.594851e+01</td>\n",
       "      <td>-3.442096</td>\n",
       "      <td>1.775522e+01</td>\n",
       "      <td>22.995333</td>\n",
       "      <td>25.083618</td>\n",
       "    </tr>\n",
       "    <tr>\n",
       "      <th>SE</th>\n",
       "      <td>0.724150</td>\n",
       "      <td>6.789397e-01</td>\n",
       "      <td>2.190023e+00</td>\n",
       "      <td>3.265093e+00</td>\n",
       "      <td>3.412633</td>\n",
       "      <td>3.199327e+00</td>\n",
       "      <td>0.769807</td>\n",
       "      <td>1.046652e+00</td>\n",
       "      <td>8.199117</td>\n",
       "      <td>9.509808</td>\n",
       "    </tr>\n",
       "    <tr>\n",
       "      <th>t</th>\n",
       "      <td>70.433821</td>\n",
       "      <td>1.119364e+01</td>\n",
       "      <td>8.983416e+00</td>\n",
       "      <td>5.261336e+00</td>\n",
       "      <td>4.610852</td>\n",
       "      <td>4.984958e+00</td>\n",
       "      <td>-4.471377</td>\n",
       "      <td>1.696383e+01</td>\n",
       "      <td>2.804611</td>\n",
       "      <td>2.637658</td>\n",
       "    </tr>\n",
       "    <tr>\n",
       "      <th>p-value</th>\n",
       "      <td>0.000000</td>\n",
       "      <td>1.581470e-28</td>\n",
       "      <td>4.514705e-19</td>\n",
       "      <td>1.529962e-07</td>\n",
       "      <td>0.000004</td>\n",
       "      <td>6.546755e-07</td>\n",
       "      <td>0.000008</td>\n",
       "      <td>9.997075e-62</td>\n",
       "      <td>0.005070</td>\n",
       "      <td>0.008391</td>\n",
       "    </tr>\n",
       "  </tbody>\n",
       "</table>\n",
       "</div>"
      ],
      "text/plain": [
       "         Intercept  C(languages)[English]:Drama  C(languages)[French]:Drama  \\\n",
       "coef     51.004667                 7.599810e+00                1.967389e+01   \n",
       "SE        0.724150                 6.789397e-01                2.190023e+00   \n",
       "t        70.433821                 1.119364e+01                8.983416e+00   \n",
       "p-value   0.000000                 1.581470e-28                4.514705e-19   \n",
       "\n",
       "         C(languages)[German]:Drama  C(languages)[Japanese]:Drama  \\\n",
       "coef                   1.717875e+01                     15.735145   \n",
       "SE                     3.265093e+00                      3.412633   \n",
       "t                      5.261336e+00                      4.610852   \n",
       "p-value                1.529962e-07                      0.000004   \n",
       "\n",
       "         C(languages)[Spanish]:Drama  C(languages)[English]:Thriller  \\\n",
       "coef                    1.594851e+01                       -3.442096   \n",
       "SE                      3.199327e+00                        0.769807   \n",
       "t                       4.984958e+00                       -4.471377   \n",
       "p-value                 6.546755e-07                        0.000008   \n",
       "\n",
       "         C(languages)[English]:Documentary  C(languages)[French]:Documentary  \\\n",
       "coef                          1.775522e+01                         22.995333   \n",
       "SE                            1.046652e+00                          8.199117   \n",
       "t                             1.696383e+01                          2.804611   \n",
       "p-value                       9.997075e-62                          0.005070   \n",
       "\n",
       "         C(languages)[Japanese]:Documentary  \n",
       "coef                              25.083618  \n",
       "SE                                 9.509808  \n",
       "t                                  2.637658  \n",
       "p-value                            0.008391  "
      ]
     },
     "metadata": {},
     "output_type": "display_data"
    }
   ],
   "source": [
    "result = pd.concat([model.params, model.bse, model.tvalues, model.pvalues],\n",
    "                   axis=1, keys=['coef','SE','t','p-value'])\n",
    "display(result[result['p-value'] < 0.01].T)"
   ]
  },
  {
   "cell_type": "markdown",
   "metadata": {},
   "source": [
    "Agora, é possível ver que os dramas franceses exercem mais influência no Metascore do que os demais, enquanto os japoneses se saem melhor nos documentários."
   ]
  },
  {
   "cell_type": "code",
   "execution_count": 29,
   "metadata": {},
   "outputs": [
    {
     "data": {
      "text/plain": [
       "1.598014414355479e-36"
      ]
     },
     "execution_count": 29,
     "metadata": {},
     "output_type": "execute_result"
    }
   ],
   "source": [
    "formula = 'user_score ~ C(languages):({})'.format(fiveGenres)\n",
    "model = smf.ols(formula, topLanguagesDF).fit()\n",
    "model.f_pvalue"
   ]
  },
  {
   "cell_type": "code",
   "execution_count": 30,
   "metadata": {},
   "outputs": [
    {
     "data": {
      "text/html": [
       "<div>\n",
       "<style>\n",
       "    .dataframe thead tr:only-child th {\n",
       "        text-align: right;\n",
       "    }\n",
       "\n",
       "    .dataframe thead th {\n",
       "        text-align: left;\n",
       "    }\n",
       "\n",
       "    .dataframe tbody tr th {\n",
       "        vertical-align: top;\n",
       "    }\n",
       "</style>\n",
       "<table border=\"1\" class=\"dataframe\">\n",
       "  <thead>\n",
       "    <tr style=\"text-align: right;\">\n",
       "      <th></th>\n",
       "      <th>Intercept</th>\n",
       "      <th>C(languages)[English]:Drama</th>\n",
       "      <th>C(languages)[French]:Drama</th>\n",
       "      <th>C(languages)[German]:Drama</th>\n",
       "      <th>C(languages)[Japanese]:Drama</th>\n",
       "      <th>C(languages)[Spanish]:Drama</th>\n",
       "      <th>C(languages)[English]:Documentary</th>\n",
       "    </tr>\n",
       "  </thead>\n",
       "  <tbody>\n",
       "    <tr>\n",
       "      <th>coef</th>\n",
       "      <td>60.241963</td>\n",
       "      <td>4.679252e+00</td>\n",
       "      <td>7.402644</td>\n",
       "      <td>10.082097</td>\n",
       "      <td>11.056792</td>\n",
       "      <td>10.632245</td>\n",
       "      <td>8.919299e+00</td>\n",
       "    </tr>\n",
       "    <tr>\n",
       "      <th>SE</th>\n",
       "      <td>0.599868</td>\n",
       "      <td>5.624169e-01</td>\n",
       "      <td>1.814161</td>\n",
       "      <td>2.704723</td>\n",
       "      <td>2.826941</td>\n",
       "      <td>2.650243</td>\n",
       "      <td>8.670203e-01</td>\n",
       "    </tr>\n",
       "    <tr>\n",
       "      <th>t</th>\n",
       "      <td>100.425337</td>\n",
       "      <td>8.319899e+00</td>\n",
       "      <td>4.080477</td>\n",
       "      <td>3.727590</td>\n",
       "      <td>3.911222</td>\n",
       "      <td>4.011800</td>\n",
       "      <td>1.028730e+01</td>\n",
       "    </tr>\n",
       "    <tr>\n",
       "      <th>p-value</th>\n",
       "      <td>0.000000</td>\n",
       "      <td>1.315419e-16</td>\n",
       "      <td>0.000046</td>\n",
       "      <td>0.000197</td>\n",
       "      <td>0.000094</td>\n",
       "      <td>0.000062</td>\n",
       "      <td>2.022001e-24</td>\n",
       "    </tr>\n",
       "  </tbody>\n",
       "</table>\n",
       "</div>"
      ],
      "text/plain": [
       "          Intercept  C(languages)[English]:Drama  C(languages)[French]:Drama  \\\n",
       "coef      60.241963                 4.679252e+00                    7.402644   \n",
       "SE         0.599868                 5.624169e-01                    1.814161   \n",
       "t        100.425337                 8.319899e+00                    4.080477   \n",
       "p-value    0.000000                 1.315419e-16                    0.000046   \n",
       "\n",
       "         C(languages)[German]:Drama  C(languages)[Japanese]:Drama  \\\n",
       "coef                      10.082097                     11.056792   \n",
       "SE                         2.704723                      2.826941   \n",
       "t                          3.727590                      3.911222   \n",
       "p-value                    0.000197                      0.000094   \n",
       "\n",
       "         C(languages)[Spanish]:Drama  C(languages)[English]:Documentary  \n",
       "coef                       10.632245                       8.919299e+00  \n",
       "SE                          2.650243                       8.670203e-01  \n",
       "t                           4.011800                       1.028730e+01  \n",
       "p-value                     0.000062                       2.022001e-24  "
      ]
     },
     "metadata": {},
     "output_type": "display_data"
    }
   ],
   "source": [
    "result = pd.concat([model.params, model.bse, model.tvalues, model.pvalues],\n",
    "                   axis=1, keys=['coef','SE','t','p-value'])\n",
    "display(result[result['p-value'] < 0.01].T)"
   ]
  },
  {
   "cell_type": "markdown",
   "metadata": {},
   "source": [
    "Já nos escores dos usuários, os dramas japoneses saem em liderança, seguidos pelos dramas alemães, espanhóis, e somente após, os dramas franceses."
   ]
  },
  {
   "cell_type": "markdown",
   "metadata": {},
   "source": [
    "# Parte 4.2 — Diretor"
   ]
  },
  {
   "cell_type": "code",
   "execution_count": 31,
   "metadata": {},
   "outputs": [
    {
     "data": {
      "text/html": [
       "<div>\n",
       "<style>\n",
       "    .dataframe thead tr:only-child th {\n",
       "        text-align: right;\n",
       "    }\n",
       "\n",
       "    .dataframe thead th {\n",
       "        text-align: left;\n",
       "    }\n",
       "\n",
       "    .dataframe tbody tr th {\n",
       "        vertical-align: top;\n",
       "    }\n",
       "</style>\n",
       "<table border=\"1\" class=\"dataframe\">\n",
       "  <thead>\n",
       "    <tr style=\"text-align: right;\">\n",
       "      <th></th>\n",
       "      <th>coef</th>\n",
       "      <th>SE</th>\n",
       "      <th>t</th>\n",
       "      <th>p-value</th>\n",
       "    </tr>\n",
       "  </thead>\n",
       "  <tbody>\n",
       "    <tr>\n",
       "      <th>Intercept</th>\n",
       "      <td>63.00</td>\n",
       "      <td>4.437449</td>\n",
       "      <td>14.197347</td>\n",
       "      <td>3.092062e-12</td>\n",
       "    </tr>\n",
       "    <tr>\n",
       "      <th>C(director)[T.Spike Lee]</th>\n",
       "      <td>-4.80</td>\n",
       "      <td>6.275500</td>\n",
       "      <td>-0.764879</td>\n",
       "      <td>4.528539e-01</td>\n",
       "    </tr>\n",
       "    <tr>\n",
       "      <th>C(director)[T.Steven Soderbergh]</th>\n",
       "      <td>10.00</td>\n",
       "      <td>6.008334</td>\n",
       "      <td>1.664355</td>\n",
       "      <td>1.108931e-01</td>\n",
       "    </tr>\n",
       "    <tr>\n",
       "      <th>C(director)[T.Steven Spielberg]</th>\n",
       "      <td>13.75</td>\n",
       "      <td>6.656173</td>\n",
       "      <td>2.065752</td>\n",
       "      <td>5.141077e-02</td>\n",
       "    </tr>\n",
       "    <tr>\n",
       "      <th>C(director)[T.Woody Allen]</th>\n",
       "      <td>1.00</td>\n",
       "      <td>6.008334</td>\n",
       "      <td>0.166435</td>\n",
       "      <td>8.694063e-01</td>\n",
       "    </tr>\n",
       "  </tbody>\n",
       "</table>\n",
       "</div>"
      ],
      "text/plain": [
       "                                   coef        SE          t       p-value\n",
       "Intercept                         63.00  4.437449  14.197347  3.092062e-12\n",
       "C(director)[T.Spike Lee]          -4.80  6.275500  -0.764879  4.528539e-01\n",
       "C(director)[T.Steven Soderbergh]  10.00  6.008334   1.664355  1.108931e-01\n",
       "C(director)[T.Steven Spielberg]   13.75  6.656173   2.065752  5.141077e-02\n",
       "C(director)[T.Woody Allen]         1.00  6.008334   0.166435  8.694063e-01"
      ]
     },
     "metadata": {},
     "output_type": "display_data"
    },
    {
     "data": {
      "text/plain": [
       "0.050416371540606957"
      ]
     },
     "metadata": {},
     "output_type": "display_data"
    }
   ],
   "source": [
    "directorQtd = movie_data.groupby('director')[['metascore']].count().drop('unknown')\n",
    "fiveDirectors = directorQtd.nlargest(5, ['metascore'])\n",
    "fiveDirectors = [i for i in fiveDirectors.index.values]\n",
    "\n",
    "getFiveDirectors = lambda i: i[11] in fiveDirectors\n",
    "topDirectorsDF = movie_data[list(map(getFiveDirectors, movie_data.itertuples()))]\n",
    "topDirectorsDF.director.cat.remove_unused_categories(inplace=True)\n",
    "topDirectorsDF = topDirectorsDF.reset_index(drop=True).dropna()\n",
    "\n",
    "model = smf.ols('metascore ~ C(director)', data=topDirectorsDF).fit()\n",
    "result = pd.concat([model.params, model.bse, model.tvalues, model.pvalues],\n",
    "                   axis=1, keys=['coef','SE','t','p-value'])\n",
    "display(result)\n",
    "display(model.f_pvalue)"
   ]
  },
  {
   "cell_type": "markdown",
   "metadata": {},
   "source": [
    "Por fim, ao contrário do que esperávamos, ao conduzirmos uma análise mais cuidadosa com os principais diretores, é possível ver que estes não possuem uma influência propriamente dita. Além de o *p-value* apresentado por estes ser alto — o que indica que não podemos rejeitar a hipótese de que estes não são influentes —, o alto valor da *p-value* da *F-statistic* nos indica ainda que, com a consideração destas variáveis, não é possível rejeitar a hipótese nula de que não estamos melhorando nosso modelo."
   ]
  }
 ],
 "metadata": {
  "kernelspec": {
   "display_name": "Python 3",
   "language": "python",
   "name": "python3"
  },
  "language_info": {
   "codemirror_mode": {
    "name": "ipython",
    "version": 3
   },
   "file_extension": ".py",
   "mimetype": "text/x-python",
   "name": "python",
   "nbconvert_exporter": "python",
   "pygments_lexer": "ipython3",
   "version": "3.6.1"
  }
 },
 "nbformat": 4,
 "nbformat_minor": 2
}
