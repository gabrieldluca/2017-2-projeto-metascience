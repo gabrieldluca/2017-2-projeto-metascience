{
 "cells": [
  {
   "cell_type": "code",
   "execution_count": 1,
   "metadata": {
    "collapsed": true
   },
   "outputs": [],
   "source": [
    "from dateutil.parser import parse\n",
    "from IPython.display import display\n",
    "import numpy as np\n",
    "import pandas as pd\n",
    "import ast\n",
    "import datetime\n",
    "import nltk\n",
    "import re\n",
    "import string"
   ]
  },
  {
   "cell_type": "code",
   "execution_count": 2,
   "metadata": {
    "collapsed": true
   },
   "outputs": [],
   "source": [
    "reviews = pd.read_csv('../scraping/data/reviews.csv')\n",
    "details = pd.read_csv('../scraping/data/details.csv')"
   ]
  },
  {
   "cell_type": "markdown",
   "metadata": {},
   "source": [
    "# Etapa 2 — Pré-processamento de dados\n",
    "## 2.1 Tratamento de dados ausentes"
   ]
  },
  {
   "cell_type": "markdown",
   "metadata": {},
   "source": [
    "Inicialmente, visto que realizamos a coleta de um vasto conjunto de dados durante uma margem considerável de tempo, o primeiro passo para nosso pré-processamento foi realizar a verificação de dados nulos."
   ]
  },
  {
   "cell_type": "code",
   "execution_count": 3,
   "metadata": {},
   "outputs": [
    {
     "data": {
      "text/plain": [
       "movie            1\n",
       "release_date     1\n",
       "acclaim_rate     1\n",
       "user_score       1\n",
       "director        20\n",
       "genres          37\n",
       "languages        0\n",
       "dtype: int64"
      ]
     },
     "metadata": {},
     "output_type": "display_data"
    }
   ],
   "source": [
    "display(details.isnull().sum())"
   ]
  },
  {
   "cell_type": "markdown",
   "metadata": {},
   "source": [
    "É possível verificar que, algumas colunas, a exemplo do diretor e do gênero, corresponderam ao esperado de possuírem dados ausentes, visto que havia alguns filmes que não contavam com estas infomações em sua página de detalhes. Por outro lado, a relação acima permite-nos concluir que há um filme sem o atributo \"movie\" — que corresponde ao nome do mesmo. Visto que se trata de um dado trivial nesse sentido, partimos para a verificação do ocorrido com mais detalhes."
   ]
  },
  {
   "cell_type": "code",
   "execution_count": 4,
   "metadata": {},
   "outputs": [
    {
     "data": {
      "text/html": [
       "<div>\n",
       "<style>\n",
       "    .dataframe thead tr:only-child th {\n",
       "        text-align: right;\n",
       "    }\n",
       "\n",
       "    .dataframe thead th {\n",
       "        text-align: left;\n",
       "    }\n",
       "\n",
       "    .dataframe tbody tr th {\n",
       "        vertical-align: top;\n",
       "    }\n",
       "</style>\n",
       "<table border=\"1\" class=\"dataframe\">\n",
       "  <thead>\n",
       "    <tr style=\"text-align: right;\">\n",
       "      <th></th>\n",
       "      <th>movie</th>\n",
       "      <th>release_date</th>\n",
       "      <th>acclaim_rate</th>\n",
       "      <th>user_score</th>\n",
       "      <th>director</th>\n",
       "      <th>genres</th>\n",
       "      <th>languages</th>\n",
       "    </tr>\n",
       "  </thead>\n",
       "  <tbody>\n",
       "    <tr>\n",
       "      <th>5208</th>\n",
       "      <td>NaN</td>\n",
       "      <td>NaN</td>\n",
       "      <td>NaN</td>\n",
       "      <td>NaN</td>\n",
       "      <td>NaN</td>\n",
       "      <td>NaN</td>\n",
       "      <td>[]</td>\n",
       "    </tr>\n",
       "  </tbody>\n",
       "</table>\n",
       "</div>"
      ],
      "text/plain": [
       "     movie release_date acclaim_rate user_score director genres languages\n",
       "5208   NaN          NaN          NaN        NaN      NaN    NaN        []"
      ]
     },
     "metadata": {},
     "output_type": "display_data"
    }
   ],
   "source": [
    "display(details[details.movie.isnull()])"
   ]
  },
  {
   "cell_type": "code",
   "execution_count": 5,
   "metadata": {
    "collapsed": true
   },
   "outputs": [],
   "source": [
    "details = details.drop(5208); reviews = reviews.drop(5208)\n",
    "details.reset_index(inplace=True, drop=True)\n",
    "reviews.reset_index(inplace=True, drop=True)"
   ]
  },
  {
   "cell_type": "markdown",
   "metadata": {},
   "source": [
    "É possível ver que o mesmo se tratava, na verdade, de um dado corrompido — perdido por alguma motivação durante a realização da coleta. Como todos os seus valores são nulos, é possível ver que o mesmo não trás contribuição nenhuma para nosso conjunto de dados, então eliminamos de ambos os DataFrames. Quanto ao tratamento de dados ausentes, a solução que optamos fora ignorar estes dados, visto que a realização do mesmo não irá prejudicar muito nossas análises posteriormente. Realizamos apenas a substituição do diretor para facilitar sua categorização a seguir."
   ]
  },
  {
   "cell_type": "code",
   "execution_count": 6,
   "metadata": {
    "collapsed": true
   },
   "outputs": [],
   "source": [
    "details.director = details.director.fillna('unknown')"
   ]
  },
  {
   "cell_type": "markdown",
   "metadata": {},
   "source": [
    "## 2.2 Ajuste de tipos de atributos"
   ]
  },
  {
   "cell_type": "markdown",
   "metadata": {},
   "source": [
    "Visto que o conjunto de dados coletados consiste de dados de diversos, fora necessário conduzir conversões de tipos que melhor representem os dados com quais estamos trabalhando. Iniciaremos pelo DataFrame de reviews."
   ]
  },
  {
   "cell_type": "code",
   "execution_count": 7,
   "metadata": {},
   "outputs": [
    {
     "name": "stdout",
     "output_type": "stream",
     "text": [
      "movie           object\n",
      "reviewer        object\n",
      "metascore       object\n",
      "review_score     int64\n",
      "review_text     object\n",
      "review_date     object\n",
      "details         object\n",
      "dtype: object\n"
     ]
    }
   ],
   "source": [
    "print(reviews.dtypes)"
   ]
  },
  {
   "cell_type": "markdown",
   "metadata": {},
   "source": [
    "É possível ver que a coluna das avaliações das resenhas foi representada corretamente, mas as demais não foram. O Metascore, por exemplo, também se trata de um critério de avaliação, então não faz sentido representá-lo como um objeto. Isso ocorre devido à presença de valores ausentes nos dados. O Metascore, por exemplo, possui valores que ainda não foram determinados — seja por que o filme ainda não foi lançado ou por que o número de reviews global é insuficiente para determiná-lo. Esses dados, então, ficam definidos como *tbd* (do inglês, *to be defined*), convertendo toda a coluna. O mesmo ocorre para filmes onde a data de lançamento ainda não foi anunciada. Assim, fora necessário criar duas funções capazes de realizar estas conversões."
   ]
  },
  {
   "cell_type": "code",
   "execution_count": 8,
   "metadata": {
    "collapsed": true
   },
   "outputs": [],
   "source": [
    "def metascore_parser(score):\n",
    "    if score != 'tbd':\n",
    "        return int(score)\n",
    "    return np.nan\n",
    "\n",
    "def date_parser(date):\n",
    "    if date is np.nan or date == 'TBA':\n",
    "        return np.nan\n",
    "    return parse(date)"
   ]
  },
  {
   "cell_type": "markdown",
   "metadata": {
    "collapsed": true
   },
   "source": [
    "Isso feito, o próximo passo for aplicá-las às colunas do Metascore e das datas das resenhas. Por sua vez, como estaremos conduzindo análises sobre a influência dos mesmos mais adiante, os críticos seriam melhor representados como categorias. Por fim, a coluna de detalhes não é mais necessária, visto que já realizamos a coleta dos detalhes dos filmes."
   ]
  },
  {
   "cell_type": "code",
   "execution_count": 9,
   "metadata": {},
   "outputs": [
    {
     "data": {
      "text/html": [
       "<div>\n",
       "<style>\n",
       "    .dataframe thead tr:only-child th {\n",
       "        text-align: right;\n",
       "    }\n",
       "\n",
       "    .dataframe thead th {\n",
       "        text-align: left;\n",
       "    }\n",
       "\n",
       "    .dataframe tbody tr th {\n",
       "        vertical-align: top;\n",
       "    }\n",
       "</style>\n",
       "<table border=\"1\" class=\"dataframe\">\n",
       "  <thead>\n",
       "    <tr style=\"text-align: right;\">\n",
       "      <th></th>\n",
       "      <th>movie</th>\n",
       "      <th>reviewer</th>\n",
       "      <th>metascore</th>\n",
       "      <th>review_score</th>\n",
       "      <th>review_text</th>\n",
       "      <th>review_date</th>\n",
       "    </tr>\n",
       "  </thead>\n",
       "  <tbody>\n",
       "    <tr>\n",
       "      <th>0</th>\n",
       "      <td>The Grandmaster</td>\n",
       "      <td>Manohla Dargis</td>\n",
       "      <td>73.0</td>\n",
       "      <td>100</td>\n",
       "      <td>The Grandmaster is, at its most persuasive, ab...</td>\n",
       "      <td>2013-08-22</td>\n",
       "    </tr>\n",
       "    <tr>\n",
       "      <th>1</th>\n",
       "      <td>Of Gods and Men</td>\n",
       "      <td>A.O. Scott</td>\n",
       "      <td>86.0</td>\n",
       "      <td>100</td>\n",
       "      <td>Of Gods and Men is supple and suspenseful, app...</td>\n",
       "      <td>2011-02-24</td>\n",
       "    </tr>\n",
       "    <tr>\n",
       "      <th>2</th>\n",
       "      <td>Kubo and the Two Strings</td>\n",
       "      <td>Glenn Kenny</td>\n",
       "      <td>84.0</td>\n",
       "      <td>100</td>\n",
       "      <td>The action is gorgeously fluid, the idiosyncra...</td>\n",
       "      <td>2016-08-18</td>\n",
       "    </tr>\n",
       "    <tr>\n",
       "      <th>3</th>\n",
       "      <td>Jane</td>\n",
       "      <td>Ben Kenigsberg</td>\n",
       "      <td>87.0</td>\n",
       "      <td>100</td>\n",
       "      <td>Jane will delight those familiar with Ms. Good...</td>\n",
       "      <td>2017-10-19</td>\n",
       "    </tr>\n",
       "    <tr>\n",
       "      <th>4</th>\n",
       "      <td>Bird People</td>\n",
       "      <td>A.O. Scott</td>\n",
       "      <td>70.0</td>\n",
       "      <td>100</td>\n",
       "      <td>There are plot twists, and then there is what ...</td>\n",
       "      <td>2014-09-11</td>\n",
       "    </tr>\n",
       "  </tbody>\n",
       "</table>\n",
       "</div>"
      ],
      "text/plain": [
       "                      movie        reviewer  metascore  review_score  \\\n",
       "0           The Grandmaster  Manohla Dargis       73.0           100   \n",
       "1           Of Gods and Men      A.O. Scott       86.0           100   \n",
       "2  Kubo and the Two Strings     Glenn Kenny       84.0           100   \n",
       "3                      Jane  Ben Kenigsberg       87.0           100   \n",
       "4               Bird People      A.O. Scott       70.0           100   \n",
       "\n",
       "                                         review_text review_date  \n",
       "0  The Grandmaster is, at its most persuasive, ab...  2013-08-22  \n",
       "1  Of Gods and Men is supple and suspenseful, app...  2011-02-24  \n",
       "2  The action is gorgeously fluid, the idiosyncra...  2016-08-18  \n",
       "3  Jane will delight those familiar with Ms. Good...  2017-10-19  \n",
       "4  There are plot twists, and then there is what ...  2014-09-11  "
      ]
     },
     "metadata": {},
     "output_type": "display_data"
    },
    {
     "data": {
      "text/plain": [
       "movie                   object\n",
       "reviewer              category\n",
       "metascore              float64\n",
       "review_score             int64\n",
       "review_text             object\n",
       "review_date     datetime64[ns]\n",
       "dtype: object"
      ]
     },
     "metadata": {},
     "output_type": "display_data"
    }
   ],
   "source": [
    "reviews.metascore = reviews['metascore'].apply(metascore_parser)\n",
    "reviews.review_date = reviews['review_date'].apply(date_parser)\n",
    "reviews.reviewer = reviews['reviewer'].astype('category')\n",
    "reviews = reviews.drop('details', axis=1)\n",
    "\n",
    "display(reviews.head())\n",
    "display(reviews.dtypes)"
   ]
  },
  {
   "cell_type": "markdown",
   "metadata": {},
   "source": [
    "Em seguida, partimos para as mesmas transformações, agora para o DataFrame de detalhes."
   ]
  },
  {
   "cell_type": "code",
   "execution_count": 10,
   "metadata": {},
   "outputs": [
    {
     "name": "stdout",
     "output_type": "stream",
     "text": [
      "movie           object\n",
      "release_date    object\n",
      "acclaim_rate    object\n",
      "user_score      object\n",
      "director        object\n",
      "genres          object\n",
      "languages       object\n",
      "dtype: object\n"
     ]
    }
   ],
   "source": [
    "print(details.dtypes)"
   ]
  },
  {
   "cell_type": "markdown",
   "metadata": {},
   "source": [
    "Podemos observar que a conversão dos tipos também não foi corretamente empregada. A data de lançamento do filme, mesmo que não tenha sido anunciada como visto anteriormente, poderia ser melhor representada em uma série temporal — algo que já definimos em funções acima. Similarmente, o diretor, gênero e os idiomas dos filmes seriam melhor representados como categóricos, visto que irão compor parte de nossa análise posteriormente. Por fim, a aclamação dos usuários também seria melhor representada desta forma, enquanto o escore global dos usuários deveria estar representado como um número, e não como um objeto. Assim sendo, seguimos com as conversões dos tipos."
   ]
  },
  {
   "cell_type": "code",
   "execution_count": 11,
   "metadata": {
    "collapsed": true
   },
   "outputs": [],
   "source": [
    "def userscore_parser(score):\n",
    "    if score != 'tbd':\n",
    "        return float(score)*10\n",
    "    return np.nan\n",
    "\n",
    "list_parser = lambda x: ast.literal_eval(x) if x is not np.nan else ['unknown']\n",
    "getFirstElem = lambda y: y[0] if len(y) is not 0 else 'unknown'"
   ]
  },
  {
   "cell_type": "code",
   "execution_count": 12,
   "metadata": {
    "collapsed": true
   },
   "outputs": [],
   "source": [
    "details.genres = details['genres'].apply(list_parser)\n",
    "binary_genres = pd.get_dummies(details['genres'].apply(pd.Series).stack()).sum(level=0)\n",
    "\n",
    "details = details.drop('genres', axis=1)\n",
    "details = pd.concat([details, binary_genres], axis=1)"
   ]
  },
  {
   "cell_type": "markdown",
   "metadata": {},
   "source": [
    "A conversão dos gêneros em variáveis *dummy* nos auxiliará ao decorrer de nossas análises, visto que esta é a melhor maneira de representá-los como atributos categóricos de diversos níveis. Além disso, pudemos verificar que o idioma, em grande parte, não é composto apenas por valores significativos. O filme The Grandmaster, por exemplo, possui em seu campo de idiomas: mandarim, japonês e cantonês. Apesar disso, o idioma principal do filme é apenas o mandarim. O mesmo ocorre para tipos diferentes de filmes. Assim sendo, realizamos a coleta apenas do primeiro idioma, visto que este é suficientemente representativo do filme. Em seguida, realizamos as conversões."
   ]
  },
  {
   "cell_type": "code",
   "execution_count": 13,
   "metadata": {},
   "outputs": [
    {
     "data": {
      "text/html": [
       "<div>\n",
       "<style>\n",
       "    .dataframe thead tr:only-child th {\n",
       "        text-align: right;\n",
       "    }\n",
       "\n",
       "    .dataframe thead th {\n",
       "        text-align: left;\n",
       "    }\n",
       "\n",
       "    .dataframe tbody tr th {\n",
       "        vertical-align: top;\n",
       "    }\n",
       "</style>\n",
       "<table border=\"1\" class=\"dataframe\">\n",
       "  <thead>\n",
       "    <tr style=\"text-align: right;\">\n",
       "      <th></th>\n",
       "      <th>movie</th>\n",
       "      <th>release_date</th>\n",
       "      <th>acclaim_rate</th>\n",
       "      <th>user_score</th>\n",
       "      <th>director</th>\n",
       "      <th>languages</th>\n",
       "      <th>Action</th>\n",
       "      <th>Adult</th>\n",
       "      <th>Adventure</th>\n",
       "      <th>Animation</th>\n",
       "      <th>...</th>\n",
       "      <th>Reality-TV</th>\n",
       "      <th>Romance</th>\n",
       "      <th>Sci-Fi</th>\n",
       "      <th>Short</th>\n",
       "      <th>Sport</th>\n",
       "      <th>Talk-Show</th>\n",
       "      <th>Thriller</th>\n",
       "      <th>War</th>\n",
       "      <th>Western</th>\n",
       "      <th>unknown</th>\n",
       "    </tr>\n",
       "  </thead>\n",
       "  <tbody>\n",
       "    <tr>\n",
       "      <th>0</th>\n",
       "      <td>The Grandmaster</td>\n",
       "      <td>2013-08-23</td>\n",
       "      <td>Generally favorable reviews</td>\n",
       "      <td>67.0</td>\n",
       "      <td>Kar Wai Wong</td>\n",
       "      <td>Mandarin</td>\n",
       "      <td>1</td>\n",
       "      <td>0</td>\n",
       "      <td>0</td>\n",
       "      <td>0</td>\n",
       "      <td>...</td>\n",
       "      <td>0</td>\n",
       "      <td>0</td>\n",
       "      <td>0</td>\n",
       "      <td>0</td>\n",
       "      <td>0</td>\n",
       "      <td>0</td>\n",
       "      <td>0</td>\n",
       "      <td>0</td>\n",
       "      <td>0</td>\n",
       "      <td>0</td>\n",
       "    </tr>\n",
       "    <tr>\n",
       "      <th>1</th>\n",
       "      <td>Of Gods and Men</td>\n",
       "      <td>2011-02-25</td>\n",
       "      <td>Generally favorable reviews</td>\n",
       "      <td>70.0</td>\n",
       "      <td>Xavier Beauvois</td>\n",
       "      <td>French</td>\n",
       "      <td>0</td>\n",
       "      <td>0</td>\n",
       "      <td>0</td>\n",
       "      <td>0</td>\n",
       "      <td>...</td>\n",
       "      <td>0</td>\n",
       "      <td>0</td>\n",
       "      <td>0</td>\n",
       "      <td>0</td>\n",
       "      <td>0</td>\n",
       "      <td>0</td>\n",
       "      <td>0</td>\n",
       "      <td>0</td>\n",
       "      <td>0</td>\n",
       "      <td>0</td>\n",
       "    </tr>\n",
       "    <tr>\n",
       "      <th>2</th>\n",
       "      <td>Kubo and the Two Strings</td>\n",
       "      <td>2016-08-19</td>\n",
       "      <td>Universal acclaim</td>\n",
       "      <td>81.0</td>\n",
       "      <td>Travis Knight</td>\n",
       "      <td>English</td>\n",
       "      <td>0</td>\n",
       "      <td>0</td>\n",
       "      <td>1</td>\n",
       "      <td>1</td>\n",
       "      <td>...</td>\n",
       "      <td>0</td>\n",
       "      <td>0</td>\n",
       "      <td>0</td>\n",
       "      <td>0</td>\n",
       "      <td>0</td>\n",
       "      <td>0</td>\n",
       "      <td>0</td>\n",
       "      <td>0</td>\n",
       "      <td>0</td>\n",
       "      <td>0</td>\n",
       "    </tr>\n",
       "    <tr>\n",
       "      <th>3</th>\n",
       "      <td>Jane</td>\n",
       "      <td>2017-10-20</td>\n",
       "      <td>No score yet</td>\n",
       "      <td>NaN</td>\n",
       "      <td>Brett Morgen</td>\n",
       "      <td>English</td>\n",
       "      <td>0</td>\n",
       "      <td>0</td>\n",
       "      <td>0</td>\n",
       "      <td>0</td>\n",
       "      <td>...</td>\n",
       "      <td>0</td>\n",
       "      <td>0</td>\n",
       "      <td>0</td>\n",
       "      <td>0</td>\n",
       "      <td>0</td>\n",
       "      <td>0</td>\n",
       "      <td>0</td>\n",
       "      <td>0</td>\n",
       "      <td>0</td>\n",
       "      <td>0</td>\n",
       "    </tr>\n",
       "    <tr>\n",
       "      <th>4</th>\n",
       "      <td>Bird People</td>\n",
       "      <td>2014-09-12</td>\n",
       "      <td>Generally favorable reviews</td>\n",
       "      <td>70.0</td>\n",
       "      <td>Pascale Ferran</td>\n",
       "      <td>English</td>\n",
       "      <td>0</td>\n",
       "      <td>0</td>\n",
       "      <td>0</td>\n",
       "      <td>0</td>\n",
       "      <td>...</td>\n",
       "      <td>0</td>\n",
       "      <td>1</td>\n",
       "      <td>0</td>\n",
       "      <td>0</td>\n",
       "      <td>0</td>\n",
       "      <td>0</td>\n",
       "      <td>0</td>\n",
       "      <td>0</td>\n",
       "      <td>0</td>\n",
       "      <td>0</td>\n",
       "    </tr>\n",
       "  </tbody>\n",
       "</table>\n",
       "<p>5 rows × 34 columns</p>\n",
       "</div>"
      ],
      "text/plain": [
       "                      movie release_date                 acclaim_rate  \\\n",
       "0           The Grandmaster   2013-08-23  Generally favorable reviews   \n",
       "1           Of Gods and Men   2011-02-25  Generally favorable reviews   \n",
       "2  Kubo and the Two Strings   2016-08-19            Universal acclaim   \n",
       "3                      Jane   2017-10-20                 No score yet   \n",
       "4               Bird People   2014-09-12  Generally favorable reviews   \n",
       "\n",
       "   user_score         director languages  Action  Adult  Adventure  Animation  \\\n",
       "0        67.0     Kar Wai Wong  Mandarin       1      0          0          0   \n",
       "1        70.0  Xavier Beauvois    French       0      0          0          0   \n",
       "2        81.0    Travis Knight   English       0      0          1          1   \n",
       "3         NaN     Brett Morgen   English       0      0          0          0   \n",
       "4        70.0   Pascale Ferran   English       0      0          0          0   \n",
       "\n",
       "    ...     Reality-TV  Romance  Sci-Fi  Short  Sport  Talk-Show  Thriller  \\\n",
       "0   ...              0        0       0      0      0          0         0   \n",
       "1   ...              0        0       0      0      0          0         0   \n",
       "2   ...              0        0       0      0      0          0         0   \n",
       "3   ...              0        0       0      0      0          0         0   \n",
       "4   ...              0        1       0      0      0          0         0   \n",
       "\n",
       "   War  Western  unknown  \n",
       "0    0        0        0  \n",
       "1    0        0        0  \n",
       "2    0        0        0  \n",
       "3    0        0        0  \n",
       "4    0        0        0  \n",
       "\n",
       "[5 rows x 34 columns]"
      ]
     },
     "metadata": {},
     "output_type": "display_data"
    },
    {
     "data": {
      "text/plain": [
       "movie                   object\n",
       "release_date    datetime64[ns]\n",
       "acclaim_rate          category\n",
       "user_score             float64\n",
       "director              category\n",
       "languages             category\n",
       "Action                   int64\n",
       "Adult                    int64\n",
       "Adventure                int64\n",
       "Animation                int64\n",
       "Biography                int64\n",
       "Comedy                   int64\n",
       "Crime                    int64\n",
       "Documentary              int64\n",
       "Drama                    int64\n",
       "Family                   int64\n",
       "Fantasy                  int64\n",
       "Film-Noir                int64\n",
       "History                  int64\n",
       "Horror                   int64\n",
       "Music                    int64\n",
       "Musical                  int64\n",
       "Mystery                  int64\n",
       "News                     int64\n",
       "Reality-TV               int64\n",
       "Romance                  int64\n",
       "Sci-Fi                   int64\n",
       "Short                    int64\n",
       "Sport                    int64\n",
       "Talk-Show                int64\n",
       "Thriller                 int64\n",
       "War                      int64\n",
       "Western                  int64\n",
       "unknown                  uint8\n",
       "dtype: object"
      ]
     },
     "metadata": {},
     "output_type": "display_data"
    }
   ],
   "source": [
    "details.user_score = details['user_score'].apply(userscore_parser)\n",
    "details.release_date = details['release_date'].apply(date_parser)\n",
    "details.languages = details['languages'].apply(list_parser).apply(getFirstElem)\n",
    "details.languages = details['languages'].astype('category')\n",
    "details.acclaim_rate = details['acclaim_rate'].astype('category')\n",
    "details.director = details['director'].astype('category')\n",
    "for col in details.columns[6:-1]:\n",
    "    details[col] = details[col].astype('int64')\n",
    "\n",
    "display(details.head())\n",
    "display(details.dtypes)"
   ]
  },
  {
   "cell_type": "markdown",
   "metadata": {},
   "source": [
    "## 2.3 Discretização"
   ]
  },
  {
   "cell_type": "markdown",
   "metadata": {},
   "source": [
    "Também fora necessário empregar técnicas de discretização para direcionarmos melhor nosso estudo. As décadas de lançamento, por exemplo, também são potenciais fatores que podemos empregar em nossas análises."
   ]
  },
  {
   "cell_type": "code",
   "execution_count": 14,
   "metadata": {},
   "outputs": [
    {
     "data": {
      "text/html": [
       "<div>\n",
       "<style>\n",
       "    .dataframe thead tr:only-child th {\n",
       "        text-align: right;\n",
       "    }\n",
       "\n",
       "    .dataframe thead th {\n",
       "        text-align: left;\n",
       "    }\n",
       "\n",
       "    .dataframe tbody tr th {\n",
       "        vertical-align: top;\n",
       "    }\n",
       "</style>\n",
       "<table border=\"1\" class=\"dataframe\">\n",
       "  <thead>\n",
       "    <tr style=\"text-align: right;\">\n",
       "      <th></th>\n",
       "      <th>release_date</th>\n",
       "      <th>release_decade</th>\n",
       "    </tr>\n",
       "  </thead>\n",
       "  <tbody>\n",
       "    <tr>\n",
       "      <th>0</th>\n",
       "      <td>2013.0</td>\n",
       "      <td>2010s</td>\n",
       "    </tr>\n",
       "    <tr>\n",
       "      <th>1</th>\n",
       "      <td>2011.0</td>\n",
       "      <td>2010s</td>\n",
       "    </tr>\n",
       "    <tr>\n",
       "      <th>2</th>\n",
       "      <td>2016.0</td>\n",
       "      <td>2010s</td>\n",
       "    </tr>\n",
       "    <tr>\n",
       "      <th>3</th>\n",
       "      <td>2017.0</td>\n",
       "      <td>2010s</td>\n",
       "    </tr>\n",
       "    <tr>\n",
       "      <th>4</th>\n",
       "      <td>2014.0</td>\n",
       "      <td>2010s</td>\n",
       "    </tr>\n",
       "    <tr>\n",
       "      <th>5</th>\n",
       "      <td>2012.0</td>\n",
       "      <td>2010s</td>\n",
       "    </tr>\n",
       "    <tr>\n",
       "      <th>6</th>\n",
       "      <td>2015.0</td>\n",
       "      <td>2010s</td>\n",
       "    </tr>\n",
       "    <tr>\n",
       "      <th>7</th>\n",
       "      <td>1999.0</td>\n",
       "      <td>1990s</td>\n",
       "    </tr>\n",
       "    <tr>\n",
       "      <th>8</th>\n",
       "      <td>2011.0</td>\n",
       "      <td>2010s</td>\n",
       "    </tr>\n",
       "    <tr>\n",
       "      <th>9</th>\n",
       "      <td>2012.0</td>\n",
       "      <td>2010s</td>\n",
       "    </tr>\n",
       "  </tbody>\n",
       "</table>\n",
       "</div>"
      ],
      "text/plain": [
       "   release_date release_decade\n",
       "0        2013.0          2010s\n",
       "1        2011.0          2010s\n",
       "2        2016.0          2010s\n",
       "3        2017.0          2010s\n",
       "4        2014.0          2010s\n",
       "5        2012.0          2010s\n",
       "6        2015.0          2010s\n",
       "7        1999.0          1990s\n",
       "8        2011.0          2010s\n",
       "9        2012.0          2010s"
      ]
     },
     "metadata": {},
     "output_type": "display_data"
    }
   ],
   "source": [
    "details['release_decade'] = pd.cut(details.release_date.map(lambda x: x.year),\n",
    "       bins=np.insert(np.linspace(1930, 2010, 9, dtype=np.int32), 9, 2017),\n",
    "       labels=list(map(lambda x: '{}s'.format(x),\n",
    "       np.linspace(1930, 2010, 9, dtype=np.int32)))\n",
    ")\n",
    "\n",
    "display(pd.concat([details.release_date.apply(lambda x: x.year).head(10),\n",
    "                   details.release_decade.head(10)], axis=1))"
   ]
  },
  {
   "cell_type": "markdown",
   "metadata": {},
   "source": [
    "Também seria útil realizar a discretização para o escore dos críticos, visto que o sentimento pode ser tornar algo necessário quando empregarmos a classificação de texto."
   ]
  },
  {
   "cell_type": "code",
   "execution_count": 20,
   "metadata": {
    "collapsed": true
   },
   "outputs": [],
   "source": [
    "def get_sentiment(score):\n",
    "    if score is np.nan:\n",
    "        return np.nan\n",
    "    if score < 40:\n",
    "        return 'neg'\n",
    "    elif score > 60:\n",
    "        return 'pos'\n",
    "    else:\n",
    "        return 'mixed'\n",
    "    \n",
    "reviews['sentiment'] = reviews['review_score'].apply(get_sentiment)\n",
    "reviews['sentiment'] = reviews['sentiment'].astype('category')"
   ]
  },
  {
   "cell_type": "markdown",
   "metadata": {},
   "source": [
    "## 2.4 Integração de dados"
   ]
  },
  {
   "cell_type": "markdown",
   "metadata": {},
   "source": [
    "Para concluirmos, o único fator que ainda restava era a realização da integração dos dados. Ao tentar realizar o mesmo através da função *merge* de Pandas, vimos que ocorria um aumento do número de linhas. Conduzindo análises, pudemos encontrar duplicação em nossos dados, o que inicialmente levantou nossas suspeitas de que poderiam se tratar de resenhas diferentes. Ao olhar o DataFrame de detalhes, podemos ver que se tratam exatamente do mesmo filme."
   ]
  },
  {
   "cell_type": "code",
   "execution_count": 16,
   "metadata": {},
   "outputs": [
    {
     "data": {
      "text/html": [
       "<div>\n",
       "<style>\n",
       "    .dataframe thead tr:only-child th {\n",
       "        text-align: right;\n",
       "    }\n",
       "\n",
       "    .dataframe thead th {\n",
       "        text-align: left;\n",
       "    }\n",
       "\n",
       "    .dataframe tbody tr th {\n",
       "        vertical-align: top;\n",
       "    }\n",
       "</style>\n",
       "<table border=\"1\" class=\"dataframe\">\n",
       "  <thead>\n",
       "    <tr style=\"text-align: right;\">\n",
       "      <th></th>\n",
       "      <th>movie</th>\n",
       "      <th>release_date</th>\n",
       "      <th>acclaim_rate</th>\n",
       "      <th>user_score</th>\n",
       "      <th>director</th>\n",
       "      <th>languages</th>\n",
       "      <th>Action</th>\n",
       "      <th>Adult</th>\n",
       "      <th>Adventure</th>\n",
       "      <th>Animation</th>\n",
       "      <th>...</th>\n",
       "      <th>Romance</th>\n",
       "      <th>Sci-Fi</th>\n",
       "      <th>Short</th>\n",
       "      <th>Sport</th>\n",
       "      <th>Talk-Show</th>\n",
       "      <th>Thriller</th>\n",
       "      <th>War</th>\n",
       "      <th>Western</th>\n",
       "      <th>unknown</th>\n",
       "      <th>release_decade</th>\n",
       "    </tr>\n",
       "  </thead>\n",
       "  <tbody>\n",
       "    <tr>\n",
       "      <th>10525</th>\n",
       "      <td>I Love You, Daddy</td>\n",
       "      <td>NaT</td>\n",
       "      <td>No score yet</td>\n",
       "      <td>NaN</td>\n",
       "      <td>Louis C.K.</td>\n",
       "      <td>English</td>\n",
       "      <td>0</td>\n",
       "      <td>0</td>\n",
       "      <td>0</td>\n",
       "      <td>0</td>\n",
       "      <td>...</td>\n",
       "      <td>0</td>\n",
       "      <td>0</td>\n",
       "      <td>0</td>\n",
       "      <td>0</td>\n",
       "      <td>0</td>\n",
       "      <td>0</td>\n",
       "      <td>0</td>\n",
       "      <td>0</td>\n",
       "      <td>0</td>\n",
       "      <td>NaN</td>\n",
       "    </tr>\n",
       "  </tbody>\n",
       "</table>\n",
       "<p>1 rows × 35 columns</p>\n",
       "</div>"
      ],
      "text/plain": [
       "                   movie release_date  acclaim_rate  user_score    director  \\\n",
       "10525  I Love You, Daddy          NaT  No score yet         NaN  Louis C.K.   \n",
       "\n",
       "      languages  Action  Adult  Adventure  Animation       ...        Romance  \\\n",
       "10525   English       0      0          0          0       ...              0   \n",
       "\n",
       "       Sci-Fi  Short  Sport  Talk-Show  Thriller  War  Western  unknown  \\\n",
       "10525       0      0      0          0         0    0        0        0   \n",
       "\n",
       "       release_decade  \n",
       "10525             NaN  \n",
       "\n",
       "[1 rows x 35 columns]"
      ]
     },
     "metadata": {},
     "output_type": "display_data"
    },
    {
     "data": {
      "text/html": [
       "<div>\n",
       "<style>\n",
       "    .dataframe thead tr:only-child th {\n",
       "        text-align: right;\n",
       "    }\n",
       "\n",
       "    .dataframe thead th {\n",
       "        text-align: left;\n",
       "    }\n",
       "\n",
       "    .dataframe tbody tr th {\n",
       "        vertical-align: top;\n",
       "    }\n",
       "</style>\n",
       "<table border=\"1\" class=\"dataframe\">\n",
       "  <thead>\n",
       "    <tr style=\"text-align: right;\">\n",
       "      <th></th>\n",
       "      <th>movie</th>\n",
       "      <th>release_date</th>\n",
       "      <th>acclaim_rate</th>\n",
       "      <th>user_score</th>\n",
       "      <th>director</th>\n",
       "      <th>languages</th>\n",
       "      <th>Action</th>\n",
       "      <th>Adult</th>\n",
       "      <th>Adventure</th>\n",
       "      <th>Animation</th>\n",
       "      <th>...</th>\n",
       "      <th>Romance</th>\n",
       "      <th>Sci-Fi</th>\n",
       "      <th>Short</th>\n",
       "      <th>Sport</th>\n",
       "      <th>Talk-Show</th>\n",
       "      <th>Thriller</th>\n",
       "      <th>War</th>\n",
       "      <th>Western</th>\n",
       "      <th>unknown</th>\n",
       "      <th>release_decade</th>\n",
       "    </tr>\n",
       "  </thead>\n",
       "  <tbody>\n",
       "    <tr>\n",
       "      <th>2779</th>\n",
       "      <td>I Love You, Daddy</td>\n",
       "      <td>NaT</td>\n",
       "      <td>No score yet</td>\n",
       "      <td>NaN</td>\n",
       "      <td>Louis C.K.</td>\n",
       "      <td>English</td>\n",
       "      <td>0</td>\n",
       "      <td>0</td>\n",
       "      <td>0</td>\n",
       "      <td>0</td>\n",
       "      <td>...</td>\n",
       "      <td>0</td>\n",
       "      <td>0</td>\n",
       "      <td>0</td>\n",
       "      <td>0</td>\n",
       "      <td>0</td>\n",
       "      <td>0</td>\n",
       "      <td>0</td>\n",
       "      <td>0</td>\n",
       "      <td>0</td>\n",
       "      <td>NaN</td>\n",
       "    </tr>\n",
       "    <tr>\n",
       "      <th>10525</th>\n",
       "      <td>I Love You, Daddy</td>\n",
       "      <td>NaT</td>\n",
       "      <td>No score yet</td>\n",
       "      <td>NaN</td>\n",
       "      <td>Louis C.K.</td>\n",
       "      <td>English</td>\n",
       "      <td>0</td>\n",
       "      <td>0</td>\n",
       "      <td>0</td>\n",
       "      <td>0</td>\n",
       "      <td>...</td>\n",
       "      <td>0</td>\n",
       "      <td>0</td>\n",
       "      <td>0</td>\n",
       "      <td>0</td>\n",
       "      <td>0</td>\n",
       "      <td>0</td>\n",
       "      <td>0</td>\n",
       "      <td>0</td>\n",
       "      <td>0</td>\n",
       "      <td>NaN</td>\n",
       "    </tr>\n",
       "  </tbody>\n",
       "</table>\n",
       "<p>2 rows × 35 columns</p>\n",
       "</div>"
      ],
      "text/plain": [
       "                   movie release_date  acclaim_rate  user_score    director  \\\n",
       "2779   I Love You, Daddy          NaT  No score yet         NaN  Louis C.K.   \n",
       "10525  I Love You, Daddy          NaT  No score yet         NaN  Louis C.K.   \n",
       "\n",
       "      languages  Action  Adult  Adventure  Animation       ...        Romance  \\\n",
       "2779    English       0      0          0          0       ...              0   \n",
       "10525   English       0      0          0          0       ...              0   \n",
       "\n",
       "       Sci-Fi  Short  Sport  Talk-Show  Thriller  War  Western  unknown  \\\n",
       "2779        0      0      0          0         0    0        0        0   \n",
       "10525       0      0      0          0         0    0        0        0   \n",
       "\n",
       "       release_decade  \n",
       "2779              NaN  \n",
       "10525             NaN  \n",
       "\n",
       "[2 rows x 35 columns]"
      ]
     },
     "metadata": {},
     "output_type": "display_data"
    }
   ],
   "source": [
    "display(details[details.duplicated()])\n",
    "display(details[details.movie=='I Love You, Daddy'])"
   ]
  },
  {
   "cell_type": "markdown",
   "metadata": {},
   "source": [
    "Porém, uma análise mais cuidadosa no DataFrame de reviews nos permite concluir que são realmente resenhas distintas. Além de o escore empregado em cada uma das avaliações ser diferente, o texto da review nos mostra claramente que a crítica assistiu o filme duas vezes e teve conclusões distintas."
   ]
  },
  {
   "cell_type": "code",
   "execution_count": 21,
   "metadata": {},
   "outputs": [
    {
     "data": {
      "text/html": [
       "<div>\n",
       "<style>\n",
       "    .dataframe thead tr:only-child th {\n",
       "        text-align: right;\n",
       "    }\n",
       "\n",
       "    .dataframe thead th {\n",
       "        text-align: left;\n",
       "    }\n",
       "\n",
       "    .dataframe tbody tr th {\n",
       "        vertical-align: top;\n",
       "    }\n",
       "</style>\n",
       "<table border=\"1\" class=\"dataframe\">\n",
       "  <thead>\n",
       "    <tr style=\"text-align: right;\">\n",
       "      <th></th>\n",
       "      <th>movie</th>\n",
       "      <th>reviewer</th>\n",
       "      <th>metascore</th>\n",
       "      <th>review_score</th>\n",
       "      <th>review_text</th>\n",
       "      <th>review_date</th>\n",
       "      <th>sentiment</th>\n",
       "    </tr>\n",
       "  </thead>\n",
       "  <tbody>\n",
       "    <tr>\n",
       "      <th>2779</th>\n",
       "      <td>I Love You, Daddy</td>\n",
       "      <td>Manohla Dargis</td>\n",
       "      <td>56.0</td>\n",
       "      <td>80</td>\n",
       "      <td>“Zama” and I Love You, Daddy are two of the be...</td>\n",
       "      <td>NaT</td>\n",
       "      <td>pos</td>\n",
       "    </tr>\n",
       "    <tr>\n",
       "      <th>10525</th>\n",
       "      <td>I Love You, Daddy</td>\n",
       "      <td>Manohla Dargis</td>\n",
       "      <td>56.0</td>\n",
       "      <td>40</td>\n",
       "      <td>When I watched I Love You, Daddy a second time...</td>\n",
       "      <td>NaT</td>\n",
       "      <td>mixed</td>\n",
       "    </tr>\n",
       "  </tbody>\n",
       "</table>\n",
       "</div>"
      ],
      "text/plain": [
       "                   movie        reviewer  metascore  review_score  \\\n",
       "2779   I Love You, Daddy  Manohla Dargis       56.0            80   \n",
       "10525  I Love You, Daddy  Manohla Dargis       56.0            40   \n",
       "\n",
       "                                             review_text review_date sentiment  \n",
       "2779   “Zama” and I Love You, Daddy are two of the be...         NaT       pos  \n",
       "10525  When I watched I Love You, Daddy a second time...         NaT     mixed  "
      ]
     },
     "metadata": {},
     "output_type": "display_data"
    }
   ],
   "source": [
    "display(reviews[reviews.movie=='I Love You, Daddy'])"
   ]
  },
  {
   "cell_type": "markdown",
   "metadata": {},
   "source": [
    "Por se tratarem de resenhas diferentes, não faz sentido considerarmos os mesmos como dados duplicados, ainda que se tratem do mesmo filme. Assim sendo, adicionamos parâmetros adicionais para realizarmos a integração dos dados pelo índice nestas ocorrências."
   ]
  },
  {
   "cell_type": "code",
   "execution_count": 22,
   "metadata": {},
   "outputs": [
    {
     "data": {
      "text/html": [
       "<div>\n",
       "<style>\n",
       "    .dataframe thead tr:only-child th {\n",
       "        text-align: right;\n",
       "    }\n",
       "\n",
       "    .dataframe thead th {\n",
       "        text-align: left;\n",
       "    }\n",
       "\n",
       "    .dataframe tbody tr th {\n",
       "        vertical-align: top;\n",
       "    }\n",
       "</style>\n",
       "<table border=\"1\" class=\"dataframe\">\n",
       "  <thead>\n",
       "    <tr style=\"text-align: right;\">\n",
       "      <th></th>\n",
       "      <th>movie</th>\n",
       "      <th>reviewer</th>\n",
       "      <th>metascore</th>\n",
       "      <th>review_score</th>\n",
       "      <th>review_text</th>\n",
       "      <th>review_date</th>\n",
       "      <th>sentiment</th>\n",
       "      <th>release_date</th>\n",
       "      <th>acclaim_rate</th>\n",
       "      <th>user_score</th>\n",
       "      <th>...</th>\n",
       "      <th>Romance</th>\n",
       "      <th>Sci-Fi</th>\n",
       "      <th>Short</th>\n",
       "      <th>Sport</th>\n",
       "      <th>Talk-Show</th>\n",
       "      <th>Thriller</th>\n",
       "      <th>War</th>\n",
       "      <th>Western</th>\n",
       "      <th>unknown</th>\n",
       "      <th>release_decade</th>\n",
       "    </tr>\n",
       "  </thead>\n",
       "  <tbody>\n",
       "    <tr>\n",
       "      <th>0</th>\n",
       "      <td>The Grandmaster</td>\n",
       "      <td>Manohla Dargis</td>\n",
       "      <td>73.0</td>\n",
       "      <td>100</td>\n",
       "      <td>The Grandmaster is, at its most persuasive, ab...</td>\n",
       "      <td>2013-08-22</td>\n",
       "      <td>pos</td>\n",
       "      <td>2013-08-23</td>\n",
       "      <td>Generally favorable reviews</td>\n",
       "      <td>67.0</td>\n",
       "      <td>...</td>\n",
       "      <td>0</td>\n",
       "      <td>0</td>\n",
       "      <td>0</td>\n",
       "      <td>0</td>\n",
       "      <td>0</td>\n",
       "      <td>0</td>\n",
       "      <td>0</td>\n",
       "      <td>0</td>\n",
       "      <td>0</td>\n",
       "      <td>2010s</td>\n",
       "    </tr>\n",
       "    <tr>\n",
       "      <th>1</th>\n",
       "      <td>Of Gods and Men</td>\n",
       "      <td>A.O. Scott</td>\n",
       "      <td>86.0</td>\n",
       "      <td>100</td>\n",
       "      <td>Of Gods and Men is supple and suspenseful, app...</td>\n",
       "      <td>2011-02-24</td>\n",
       "      <td>pos</td>\n",
       "      <td>2011-02-25</td>\n",
       "      <td>Generally favorable reviews</td>\n",
       "      <td>70.0</td>\n",
       "      <td>...</td>\n",
       "      <td>0</td>\n",
       "      <td>0</td>\n",
       "      <td>0</td>\n",
       "      <td>0</td>\n",
       "      <td>0</td>\n",
       "      <td>0</td>\n",
       "      <td>0</td>\n",
       "      <td>0</td>\n",
       "      <td>0</td>\n",
       "      <td>2010s</td>\n",
       "    </tr>\n",
       "    <tr>\n",
       "      <th>2</th>\n",
       "      <td>Kubo and the Two Strings</td>\n",
       "      <td>Glenn Kenny</td>\n",
       "      <td>84.0</td>\n",
       "      <td>100</td>\n",
       "      <td>The action is gorgeously fluid, the idiosyncra...</td>\n",
       "      <td>2016-08-18</td>\n",
       "      <td>pos</td>\n",
       "      <td>2016-08-19</td>\n",
       "      <td>Universal acclaim</td>\n",
       "      <td>81.0</td>\n",
       "      <td>...</td>\n",
       "      <td>0</td>\n",
       "      <td>0</td>\n",
       "      <td>0</td>\n",
       "      <td>0</td>\n",
       "      <td>0</td>\n",
       "      <td>0</td>\n",
       "      <td>0</td>\n",
       "      <td>0</td>\n",
       "      <td>0</td>\n",
       "      <td>2010s</td>\n",
       "    </tr>\n",
       "    <tr>\n",
       "      <th>3</th>\n",
       "      <td>Jane</td>\n",
       "      <td>Ben Kenigsberg</td>\n",
       "      <td>87.0</td>\n",
       "      <td>100</td>\n",
       "      <td>Jane will delight those familiar with Ms. Good...</td>\n",
       "      <td>2017-10-19</td>\n",
       "      <td>pos</td>\n",
       "      <td>2017-10-20</td>\n",
       "      <td>No score yet</td>\n",
       "      <td>NaN</td>\n",
       "      <td>...</td>\n",
       "      <td>0</td>\n",
       "      <td>0</td>\n",
       "      <td>0</td>\n",
       "      <td>0</td>\n",
       "      <td>0</td>\n",
       "      <td>0</td>\n",
       "      <td>0</td>\n",
       "      <td>0</td>\n",
       "      <td>0</td>\n",
       "      <td>2010s</td>\n",
       "    </tr>\n",
       "    <tr>\n",
       "      <th>4</th>\n",
       "      <td>Bird People</td>\n",
       "      <td>A.O. Scott</td>\n",
       "      <td>70.0</td>\n",
       "      <td>100</td>\n",
       "      <td>There are plot twists, and then there is what ...</td>\n",
       "      <td>2014-09-11</td>\n",
       "      <td>pos</td>\n",
       "      <td>2014-09-12</td>\n",
       "      <td>Generally favorable reviews</td>\n",
       "      <td>70.0</td>\n",
       "      <td>...</td>\n",
       "      <td>1</td>\n",
       "      <td>0</td>\n",
       "      <td>0</td>\n",
       "      <td>0</td>\n",
       "      <td>0</td>\n",
       "      <td>0</td>\n",
       "      <td>0</td>\n",
       "      <td>0</td>\n",
       "      <td>0</td>\n",
       "      <td>2010s</td>\n",
       "    </tr>\n",
       "  </tbody>\n",
       "</table>\n",
       "<p>5 rows × 41 columns</p>\n",
       "</div>"
      ],
      "text/plain": [
       "                      movie        reviewer  metascore  review_score  \\\n",
       "0           The Grandmaster  Manohla Dargis       73.0           100   \n",
       "1           Of Gods and Men      A.O. Scott       86.0           100   \n",
       "2  Kubo and the Two Strings     Glenn Kenny       84.0           100   \n",
       "3                      Jane  Ben Kenigsberg       87.0           100   \n",
       "4               Bird People      A.O. Scott       70.0           100   \n",
       "\n",
       "                                         review_text review_date sentiment  \\\n",
       "0  The Grandmaster is, at its most persuasive, ab...  2013-08-22       pos   \n",
       "1  Of Gods and Men is supple and suspenseful, app...  2011-02-24       pos   \n",
       "2  The action is gorgeously fluid, the idiosyncra...  2016-08-18       pos   \n",
       "3  Jane will delight those familiar with Ms. Good...  2017-10-19       pos   \n",
       "4  There are plot twists, and then there is what ...  2014-09-11       pos   \n",
       "\n",
       "  release_date                 acclaim_rate  user_score       ...        \\\n",
       "0   2013-08-23  Generally favorable reviews        67.0       ...         \n",
       "1   2011-02-25  Generally favorable reviews        70.0       ...         \n",
       "2   2016-08-19            Universal acclaim        81.0       ...         \n",
       "3   2017-10-20                 No score yet         NaN       ...         \n",
       "4   2014-09-12  Generally favorable reviews        70.0       ...         \n",
       "\n",
       "  Romance Sci-Fi  Short  Sport  Talk-Show  Thriller  War  Western  unknown  \\\n",
       "0       0      0      0      0          0         0    0        0        0   \n",
       "1       0      0      0      0          0         0    0        0        0   \n",
       "2       0      0      0      0          0         0    0        0        0   \n",
       "3       0      0      0      0          0         0    0        0        0   \n",
       "4       1      0      0      0          0         0    0        0        0   \n",
       "\n",
       "   release_decade  \n",
       "0           2010s  \n",
       "1           2010s  \n",
       "2           2010s  \n",
       "3           2010s  \n",
       "4           2010s  \n",
       "\n",
       "[5 rows x 41 columns]"
      ]
     },
     "metadata": {},
     "output_type": "display_data"
    },
    {
     "data": {
      "text/plain": [
       "(12410, 41)"
      ]
     },
     "metadata": {},
     "output_type": "display_data"
    }
   ],
   "source": [
    "movie_reviews = pd.merge(reviews, details, on='movie', left_index=True, right_index=True)\n",
    "display(movie_reviews.head())\n",
    "display(movie_reviews.shape)"
   ]
  },
  {
   "cell_type": "markdown",
   "metadata": {},
   "source": [
    "Por fim, visto que coletamos os dados diretamente da página da publicação no site — e que esta os ordenava conforme o escore de avaliação do crítico do The New York Times — aleatorizamos os dados para evitar problemas posteriores. Realizamos, ainda, a renomação de algumas colunas para torná-las mais mnemônicas. Adiante, salvamos tudo em um único arquivo *csv* para concluirmos o pré-processamento e partirmos para a análise."
   ]
  },
  {
   "cell_type": "code",
   "execution_count": 24,
   "metadata": {},
   "outputs": [],
   "source": [
    "movie_reviews = movie_reviews.sample(frac=1).reset_index(drop=True)\n",
    "movie_reviews.rename(columns={'Sci-Fi': 'SciFi', 'Reality-TV': 'RealityTV', \n",
    "                           'Talk-Show': 'TalkShow', 'Film-Noir': 'FilmNoir',\n",
    "                           'acclaim_rate': 'user_acclaim'}, \n",
    "                  inplace=True)\n",
    "movie_reviews.to_csv('../movie_data.csv', sep=',', index=False)"
   ]
  }
 ],
 "metadata": {
  "kernelspec": {
   "display_name": "Python 3",
   "language": "python",
   "name": "python3"
  },
  "language_info": {
   "codemirror_mode": {
    "name": "ipython",
    "version": 3
   },
   "file_extension": ".py",
   "mimetype": "text/x-python",
   "name": "python",
   "nbconvert_exporter": "python",
   "pygments_lexer": "ipython3",
   "version": "3.6.1"
  }
 },
 "nbformat": 4,
 "nbformat_minor": 2
}
